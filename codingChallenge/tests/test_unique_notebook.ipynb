{
 "metadata": {
  "name": "",
  "signature": "sha256:1258b19aa5c19e0fc235fbeb21dc474cae9d6000791b9ea2a88dd323bffeb51b"
 },
 "nbformat": 3,
 "nbformat_minor": 0,
 "worksheets": [
  {
   "cells": [
    {
     "cell_type": "code",
     "collapsed": false,
     "input": [
      "import os\n",
      "TESTING_DIRECTORY_ABS_PATH = os.path.dirname(os.path.realpath(\"__file__\"))"
     ],
     "language": "python",
     "metadata": {},
     "outputs": [],
     "prompt_number": 1
    },
    {
     "cell_type": "code",
     "collapsed": false,
     "input": [
      "from collections import Counter\n",
      "from operator import itemgetter\n",
      "\n",
      "\n",
      "class UniqueWords():\n",
      "    \"\"\"\n",
      "    Class container for the functions related to coungint the number of unique\n",
      "    words as Tweets arrive\n",
      "    \"\"\"\n",
      "    def count_unique(self, input_tweet_array):\n",
      "        \"\"\"\n",
      "        This is the function documentation\n",
      "        \"\"\"\n",
      "        count_container = Counter()\n",
      "        for tweet in input_tweet_array:\n",
      "            count_container = count_container + Counter(tweet.split(\" \"))\n",
      "        \n",
      "        sorted_count_container = sorted(count_container.items(), key=itemgetter(0))\n",
      "        return count_container\n",
      "        "
     ],
     "language": "python",
     "metadata": {},
     "outputs": [],
     "prompt_number": 2
    },
    {
     "cell_type": "code",
     "collapsed": false,
     "input": [
      "def original_three_tweets():\n",
      "    test_tweets = [\n",
      "        \"is #bigdata finally the answer to end poverty? \\\n",
      "        @lavanyarathnam http://ow.ly/o8gt3 #analytics\",\n",
      "        \"interview: xia wang, astrazeneca on #bigdata and the promise of effective \\\n",
      "        healthcare #kdn http://ow.ly/ot2uj\",\n",
      "        \"big data is not just for big business. on how #bigdata is being deployed for \\\n",
      "        small businesses: http://bddy.me/1bzukb3 @cxotodayalerts #smb\"\n",
      "    ]\n",
      "    return test_tweets"
     ],
     "language": "python",
     "metadata": {},
     "outputs": [],
     "prompt_number": 3
    },
    {
     "cell_type": "code",
     "collapsed": false,
     "input": [
      "a = UniqueWords()\n",
      "b = a.count_unique(original_three_tweets())\n",
      "c = sorted(b.items(), key=itemgetter(0))\n",
      "d = c[1:]\n"
     ],
     "language": "python",
     "metadata": {},
     "outputs": [],
     "prompt_number": 4
    },
    {
     "cell_type": "code",
     "collapsed": false,
     "input": [],
     "language": "python",
     "metadata": {},
     "outputs": [],
     "prompt_number": 4
    },
    {
     "cell_type": "code",
     "collapsed": false,
     "input": [
      "e = \"#analytics                  1\"\n",
      "f,k = [word for word in e.split()]"
     ],
     "language": "python",
     "metadata": {},
     "outputs": [],
     "prompt_number": 5
    },
    {
     "cell_type": "code",
     "collapsed": false,
     "input": [
      "\n",
      "def insight_github_unique_word_results():\n",
      "    \"\"\"\n",
      "    Test fixture that represents the alphabetized count of words from Tweets\n",
      "    taken from the Insight Github page\n",
      "    \"\"\"\n",
      "    counter_container = {}\n",
      "\n",
      "    path_to_input_file = os.path.join(TESTING_DIRECTORY_ABS_PATH,\n",
      "                                      \"fixtures/ft1_expected_results_v1.txt\")\n",
      "    with open(path_to_input_file) as input_file:\n",
      "        for line in input_file:\n",
      "            word, count = line.split()\n",
      "            counter_container[word] = count\n",
      "    return counter_container"
     ],
     "language": "python",
     "metadata": {},
     "outputs": [],
     "prompt_number": 6
    },
    {
     "cell_type": "code",
     "collapsed": false,
     "input": [
      "insight_github_unique_word_results()"
     ],
     "language": "python",
     "metadata": {},
     "outputs": [
      {
       "metadata": {},
       "output_type": "pyout",
       "prompt_number": 7,
       "text": [
        "{'#analytics': '1',\n",
        " '#bigdata': '3',\n",
        " '#kdn': '1',\n",
        " '#smb': '1',\n",
        " '@cxotodayalerts': '1',\n",
        " '@lavanyarathnam': '1',\n",
        " 'and': '1',\n",
        " 'answer': '1',\n",
        " 'astrazeneca': '1',\n",
        " 'being': '1',\n",
        " 'big': '2',\n",
        " 'business.': '1',\n",
        " 'businesses:': '1',\n",
        " 'data': '1',\n",
        " 'deployed': '1',\n",
        " 'effective': '1',\n",
        " 'end': '1',\n",
        " 'finally': '1',\n",
        " 'for': '2',\n",
        " 'healthcare': '1',\n",
        " 'how': '1',\n",
        " 'http://bddy.me/1bzukb3': '1',\n",
        " 'http://ow.ly/o8gt3': '1',\n",
        " 'http://ow.ly/ot2uj': '1',\n",
        " 'interview:': '1',\n",
        " 'is': '3',\n",
        " 'just': '1',\n",
        " 'not': '1',\n",
        " 'of': '1',\n",
        " 'on': '2',\n",
        " 'poverty?': '1',\n",
        " 'promise': '1',\n",
        " 'small': '1',\n",
        " 'the': '2',\n",
        " 'to': '1',\n",
        " 'wang,': '1',\n",
        " 'xia': '1'}"
       ]
      }
     ],
     "prompt_number": 7
    },
    {
     "cell_type": "code",
     "collapsed": false,
     "input": [],
     "language": "python",
     "metadata": {},
     "outputs": []
    }
   ],
   "metadata": {}
  }
 ]
}