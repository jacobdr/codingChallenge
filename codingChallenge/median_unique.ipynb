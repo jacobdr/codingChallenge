{
 "metadata": {
  "name": "",
  "signature": "sha256:b6fbdff79f2fde0361de57915eeb45ede3979c41e482ec488092498ff8c314b1"
 },
 "nbformat": 3,
 "nbformat_minor": 0,
 "worksheets": [
  {
   "cells": [
    {
     "cell_type": "code",
     "collapsed": false,
     "input": [
      "from collections import Counter\n",
      "import numpy as np"
     ],
     "language": "python",
     "metadata": {},
     "outputs": []
    },
    {
     "cell_type": "code",
     "collapsed": false,
     "input": [],
     "language": "python",
     "metadata": {},
     "outputs": [],
     "prompt_number": 11
    },
    {
     "cell_type": "code",
     "collapsed": false,
     "input": [
      "class MedianCalculator(object):\n",
      "    \"\"\"\n",
      "    Class used to abstract the calculation of the median\n",
      "    \"\"\"\n",
      "    def __init__(self, tweet_iterable):\n",
      "        self.tweet_iterable = tweet_iterable\n",
      "        self.num_unique_words_sorted = []\n",
      "        self.median_list = []\n",
      "    \n",
      "    def format_to_two_decimal(self, input_amount):\n",
      "        formatted_string = \"{0:.2f}\".format(input_amount)\n",
      "        return float(formatted_string)\n",
      "    \n",
      "    def append_to_unique_word_list(self, tweet):\n",
      "        tweet_unique_words = len(set(tweet.split()))\n",
      "        self.num_unique_words_sorted.append(tweet_unique_words)\n",
      "        self.num_unique_words_sorted = sorted(self.num_unique_words_sorted)\n",
      "    \n",
      "    def populate_median_list(self):\n",
      "        for tweet in self.tweet_iterable:\n",
      "            self.append_to_unique_word_list(tweet)\n",
      "            current_number_of_tweets = len(self.num_unique_words_sorted)\n",
      "            # Condition if odd amount\n",
      "            if current_number_of_tweets % 2:\n",
      "                index = current_number_of_tweets / 2\n",
      "                self.median_list.append(self.num_unique_words_sorted[index])\n",
      "            # Condition if even amount\n",
      "            else:\n",
      "                left_index = (current_number_of_tweets / 2) - 1\n",
      "                right_index = current_number_of_tweets / 2\n",
      "                \n",
      "                average_of_medians = self.format_to_two_decimal(\n",
      "                    (self.num_unique_words_sorted[left_index] + self.num_unique_words_sorted[right_index]) / 2.0)\n",
      "                self.median_list.append(average_of_medians)\n",
      "        return self.median_list\n",
      "    "
     ],
     "language": "python",
     "metadata": {},
     "outputs": [],
     "prompt_number": 25
    },
    {
     "cell_type": "code",
     "collapsed": false,
     "input": [
      "a = MedianCalculator(quick_test1)"
     ],
     "language": "python",
     "metadata": {},
     "outputs": [],
     "prompt_number": 26
    },
    {
     "cell_type": "code",
     "collapsed": false,
     "input": [
      "a.populate_median_list()"
     ],
     "language": "python",
     "metadata": {},
     "outputs": [
      {
       "metadata": {},
       "output_type": "pyout",
       "prompt_number": 27,
       "text": [
        "[1, 3.0, 1, 1.0]"
       ]
      }
     ],
     "prompt_number": 27
    },
    {
     "cell_type": "code",
     "collapsed": false,
     "input": [
      "for x in quick_test1:\n",
      "    print set(x.split())"
     ],
     "language": "python",
     "metadata": {},
     "outputs": [
      {
       "output_type": "stream",
       "stream": "stdout",
       "text": [
        "set(['testing'])\n",
        "set(['this', 'a', 'is', 'testing', 'tweet'])\n",
        "set(['aa'])\n",
        "set(['#banger'])\n"
       ]
      }
     ],
     "prompt_number": 30
    },
    {
     "cell_type": "code",
     "collapsed": false,
     "input": [],
     "language": "python",
     "metadata": {},
     "outputs": []
    }
   ],
   "metadata": {}
  }
 ]
}