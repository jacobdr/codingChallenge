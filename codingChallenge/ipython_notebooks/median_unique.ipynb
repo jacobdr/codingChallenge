{
 "metadata": {
  "name": "",
  "signature": "sha256:a33be4735c112980fb3b3947416d517541fe0996bcef2ec8856750a67452bcce"
 },
 "nbformat": 3,
 "nbformat_minor": 0,
 "worksheets": [
  {
   "cells": [
    {
     "cell_type": "code",
     "collapsed": false,
     "input": [
      "from collections import Counter\n",
      "import numpy as np"
     ],
     "language": "python",
     "metadata": {},
     "outputs": []
    },
    {
     "cell_type": "code",
     "collapsed": false,
     "input": [],
     "language": "python",
     "metadata": {},
     "outputs": [],
     "prompt_number": 11
    },
    {
     "cell_type": "code",
     "collapsed": false,
     "input": [
      "class MedianCalculator(object):\n",
      "    \"\"\"\n",
      "    Class used to abstract the calculation of the median\n",
      "    \"\"\"\n",
      "    def __init__(self, tweet_input):\n",
      "        self.tweet_iterable = []\n",
      "        # Handle the edge case where a single tweet is supplied as a string, not an array iterable\n",
      "        if type(tweet_input) == str:\n",
      "            self.tweet_iterable = [tweet_input]\n",
      "        else:\n",
      "            self.tweet_iterable = tweet_input\n",
      "        self.num_unique_words_sorted = []\n",
      "        self.median_list = []\n",
      "\n",
      "    def format_to_two_decimal(self, input_amount):\n",
      "        formatted_string = \"{0:.2f}\".format(input_amount)\n",
      "        return float(formatted_string)\n",
      "\n",
      "    def append_to_unique_word_list(self, tweet):\n",
      "        tweet_unique_words = len(set(tweet.split()))\n",
      "        self.num_unique_words_sorted.append(tweet_unique_words)\n",
      "        self.num_unique_words_sorted = sorted(self.num_unique_words_sorted)\n",
      "\n",
      "    def populate_median_list(self):\n",
      "        for tweet in self.tweet_iterable:\n",
      "            self.append_to_unique_word_list(tweet)\n",
      "            current_number_of_tweets = len(self.num_unique_words_sorted)\n",
      "            # Condition if odd amount\n",
      "            if current_number_of_tweets % 2:\n",
      "                index = current_number_of_tweets / 2\n",
      "                self.median_list.append(self.num_unique_words_sorted[index])\n",
      "            # Condition if even amount\n",
      "            else:\n",
      "                left_index = (current_number_of_tweets / 2) - 1\n",
      "                right_index = current_number_of_tweets / 2\n",
      "\n",
      "                average_of_medians = self.format_to_two_decimal(\n",
      "                    (self.num_unique_words_sorted[left_index] +\n",
      "                     self.num_unique_words_sorted[right_index]) / 2.0)\n",
      "                self.median_list.append(average_of_medians)\n",
      "\n",
      "        return self.median_list\n",
      "\n"
     ],
     "language": "python",
     "metadata": {},
     "outputs": [],
     "prompt_number": 50
    },
    {
     "cell_type": "code",
     "collapsed": false,
     "input": [
      "a = MedianCalculator(quick_test1)"
     ],
     "language": "python",
     "metadata": {},
     "outputs": [],
     "prompt_number": 51
    },
    {
     "cell_type": "code",
     "collapsed": false,
     "input": [
      "test_tweets = [\n",
      "        \"is #bigdata finally the answer to end poverty? \\\n",
      "        @lavanyarathnam http://ow.ly/o8gt3 #analytics\",\n",
      "        \"interview: xia wang, astrazeneca on #bigdata and the promise of effective \\\n",
      "        healthcare #kdn http://ow.ly/ot2uj\",\n",
      "        \"big data is not just for big business. on how #bigdata is being deployed for \\\n",
      "        small businesses: http://bddy.me/1bzukb3 @cxotodayalerts #smb\"\n",
      "    ]"
     ],
     "language": "python",
     "metadata": {},
     "outputs": [],
     "prompt_number": 52
    },
    {
     "cell_type": "code",
     "collapsed": false,
     "input": [
      "b = MedianCalculator(test_tweets[0:2])"
     ],
     "language": "python",
     "metadata": {},
     "outputs": [],
     "prompt_number": 53
    },
    {
     "cell_type": "code",
     "collapsed": false,
     "input": [
      "b.tweet_iterable"
     ],
     "language": "python",
     "metadata": {},
     "outputs": [
      {
       "metadata": {},
       "output_type": "pyout",
       "prompt_number": 54,
       "text": [
        "[['is #bigdata finally the answer to end poverty?         @lavanyarathnam http://ow.ly/o8gt3 #analytics',\n",
        "  'interview: xia wang, astrazeneca on #bigdata and the promise of effective         healthcare #kdn http://ow.ly/ot2uj']]"
       ]
      }
     ],
     "prompt_number": 54
    },
    {
     "cell_type": "code",
     "collapsed": false,
     "input": [],
     "language": "python",
     "metadata": {},
     "outputs": [
      {
       "metadata": {},
       "output_type": "pyout",
       "prompt_number": 37,
       "text": [
        "'is #bigdata finally the answer to end poverty?         @lavanyarathnam http://ow.ly/o8gt3 #analytics'"
       ]
      }
     ],
     "prompt_number": 37
    },
    {
     "cell_type": "code",
     "collapsed": false,
     "input": [
      "type(test_tweets[0:2])"
     ],
     "language": "python",
     "metadata": {},
     "outputs": [
      {
       "metadata": {},
       "output_type": "pyout",
       "prompt_number": 49,
       "text": [
        "list"
       ]
      }
     ],
     "prompt_number": 49
    },
    {
     "cell_type": "code",
     "collapsed": false,
     "input": [
      "def test_func(tweet_input):\n",
      "    if type(tweet_input == str):\n",
      "        return [tweet_input]\n",
      "    else:\n",
      "        return tweet_input"
     ],
     "language": "python",
     "metadata": {},
     "outputs": [],
     "prompt_number": 60
    },
    {
     "cell_type": "code",
     "collapsed": false,
     "input": [
      "test_func(test_tweets[0:2])"
     ],
     "language": "python",
     "metadata": {},
     "outputs": [
      {
       "metadata": {},
       "output_type": "pyout",
       "prompt_number": 62,
       "text": [
        "[['is #bigdata finally the answer to end poverty?         @lavanyarathnam http://ow.ly/o8gt3 #analytics',\n",
        "  'interview: xia wang, astrazeneca on #bigdata and the promise of effective         healthcare #kdn http://ow.ly/ot2uj']]"
       ]
      }
     ],
     "prompt_number": 62
    },
    {
     "cell_type": "code",
     "collapsed": false,
     "input": [
      "test_tweets[0:2]"
     ],
     "language": "python",
     "metadata": {},
     "outputs": [
      {
       "metadata": {},
       "output_type": "pyout",
       "prompt_number": 63,
       "text": [
        "['is #bigdata finally the answer to end poverty?         @lavanyarathnam http://ow.ly/o8gt3 #analytics',\n",
        " 'interview: xia wang, astrazeneca on #bigdata and the promise of effective         healthcare #kdn http://ow.ly/ot2uj']"
       ]
      }
     ],
     "prompt_number": 63
    },
    {
     "cell_type": "code",
     "collapsed": false,
     "input": [
      "type(test_tweets[0:2]) == str"
     ],
     "language": "python",
     "metadata": {},
     "outputs": [
      {
       "metadata": {},
       "output_type": "pyout",
       "prompt_number": 66,
       "text": [
        "False"
       ]
      }
     ],
     "prompt_number": 66
    },
    {
     "cell_type": "code",
     "collapsed": false,
     "input": [],
     "language": "python",
     "metadata": {},
     "outputs": []
    }
   ],
   "metadata": {}
  }
 ]
}