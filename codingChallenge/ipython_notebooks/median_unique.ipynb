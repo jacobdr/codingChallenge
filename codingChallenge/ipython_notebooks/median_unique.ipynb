{
 "cells": [
  {
   "cell_type": "code",
   "execution_count": 1,
   "metadata": {
    "collapsed": false
   },
   "outputs": [],
   "source": [
    "import numpy as np\n",
    "from codingChallenge import utils\n",
    "import psutil\n",
    "from threading import Thread\n",
    "import threading\n",
    "\n",
    "\n",
    "class MedianCalculator(object):\n",
    "    \"\"\"\n",
    "    Class used to abstract the calculation of the median\n",
    "    \"\"\"\n",
    "    def __init__(self, tweet_input):\n",
    "        self.tweet_iterable = []\n",
    "        # Handle the edge case where a single tweet is supplied as a string,\n",
    "        # not an array iterable\n",
    "        if type(tweet_input) == str:\n",
    "            self.tweet_iterable = [tweet_input]\n",
    "        else:\n",
    "            self.tweet_iterable = tweet_input\n",
    "        self.num_unique_words_sorted = []\n",
    "        self.median_list = []\n",
    "\n",
    "    def format_to_two_decimal(self, input_amount):\n",
    "        formatted_string = \"{0:.2f}\".format(input_amount)\n",
    "        return float(formatted_string)\n",
    "\n",
    "    def append_to_unique_word_list(self, tweet):\n",
    "        tweet_unique_words = len(set(tweet.split()))\n",
    "        self.num_unique_words_sorted.append(tweet_unique_words)\n",
    "        self.num_unique_words_sorted = sorted(self.num_unique_words_sorted)\n",
    "\n",
    "    def populate_median_list(self):\n",
    "        for dirty_tweet in self.tweet_iterable:\n",
    "            tweet = utils.clean_tweet(dirty_tweet)\n",
    "            self.append_to_unique_word_list(tweet)\n",
    "            current_number_of_tweets = len(self.num_unique_words_sorted)\n",
    "            # Condition if odd amount\n",
    "            if current_number_of_tweets % 2:\n",
    "                index = current_number_of_tweets / 2\n",
    "                self.median_list.append(self.num_unique_words_sorted[index])\n",
    "            # Condition if even amount\n",
    "            else:\n",
    "                left_index = (current_number_of_tweets / 2) - 1\n",
    "                right_index = current_number_of_tweets / 2\n",
    "\n",
    "                average_of_medians = self.format_to_two_decimal(\n",
    "                    (self.num_unique_words_sorted[left_index] +\n",
    "                     self.num_unique_words_sorted[right_index]) / 2.0)\n",
    "                self.median_list.append(average_of_medians)\n",
    "\n",
    "        return self.median_list\n",
    "\n",
    "    def numpy_calculate_median(self):\n",
    "        tweet_array = np.genfromtxt(self.tweet_iterable, dtype=np.string_,\n",
    "                                    comments=False, delimiter=\"\\n\")\n",
    "        tweet_bag_of_words = np.array([tweet.split() for tweet in tweet_array])\n",
    "        running_list_of_uniques = []\n",
    "        running_list_of_median = []\n",
    "        for tweet in tweet_bag_of_words:\n",
    "            filtered_tweet = (np.unique(tweet))\n",
    "            running_list_of_uniques.append(len(filtered_tweet))\n",
    "            running_list_of_median.append(np.median(running_list_of_uniques))\n",
    "        return running_list_of_median\n",
    "\n",
    "    def run(self):\n",
    "        \"\"\"\n",
    "        Run methods necessary to return the array of medians.\n",
    "\n",
    "        The run method helps abstract away the calling of the methods so that\n",
    "        less refacotring is needed later on.\n",
    "        \"\"\"\n",
    "        return self.numpy_calculate_median()\n",
    "\n",
    "\n",
    "\n",
    "\n"
   ]
  },
  {
   "cell_type": "code",
   "execution_count": 2,
   "metadata": {
    "collapsed": false
   },
   "outputs": [],
   "source": [
    "test_tweets = [\n",
    "        \"is #bigdata finally the answer to end poverty? \\\n",
    "        @lavanyarathnam http://ow.ly/o8gt3 #analytics\",\n",
    "        \"interview: xia wang, astrazeneca on #bigdata and the promise of effective \\\n",
    "        healthcare #kdn http://ow.ly/ot2uj\",\n",
    "        \"big data is not just for big business. on how #bigdata is being deployed for \\\n",
    "        small businesses: http://bddy.me/1bzukb3 @cxotodayalerts #smb\"\n",
    "    ]"
   ]
  },
  {
   "cell_type": "code",
   "execution_count": 3,
   "metadata": {
    "collapsed": false
   },
   "outputs": [
    {
     "data": {
      "text/plain": [
       "8"
      ]
     },
     "execution_count": 3,
     "metadata": {},
     "output_type": "execute_result"
    }
   ],
   "source": [
    "psutil.cpu_count()"
   ]
  },
  {
   "cell_type": "code",
   "execution_count": 4,
   "metadata": {
    "collapsed": false
   },
   "outputs": [],
   "source": [
    "tweet_iterable = test_tweets * 5000\n",
    "def revised_numpy_calculate_median(self):\n",
    "        tweet_array = np.genfromtxt(tweet_iterable, dtype=np.string_,\n",
    "                                    comments=False, delimiter=\"\\n\")\n",
    "        tweet_bag_of_words = np.array([tweet.split() for tweet in tweet_array])\n",
    "        all_uniques_count = np.empty(0)\n",
    "        running_median = np.empty(0)\n",
    "        for index, tweet in enumerate(tweet_bag_of_words):\n",
    "            filtered_tweet_length = np.unique(tweet).size\n",
    "            all_uniques_count = np.append(all_uniques_count,\n",
    "                                                filtered_tweet_length)\n",
    "            running_median = np.append(running_median, np.median(all_uniques_count))\n",
    "        \n",
    "        return running_median"
   ]
  },
  {
   "cell_type": "code",
   "execution_count": 8,
   "metadata": {
    "collapsed": false
   },
   "outputs": [
    {
     "name": "stdout",
     "output_type": "stream",
     "text": [
      "[ 11.   12.5  14.  ...,  14.   14.   14. ]\n",
      "15000\n"
     ]
    }
   ],
   "source": [
    "a = revised_numpy_calculate_median(test_tweets)\n",
    "print a\n",
    "print len(a)"
   ]
  },
  {
   "cell_type": "code",
   "execution_count": 15,
   "metadata": {
    "collapsed": false
   },
   "outputs": [
    {
     "name": "stdout",
     "output_type": "stream",
     "text": [
      "input list is:\n",
      "[0, 1, 2, 3, 4]\n",
      "input list is:\n",
      "[0, 1, 2, 3]\n",
      "input list is:\n",
      "[0, 1, 2]\n",
      "input list is:\n",
      "[0, 1]\n",
      "input list is:\n",
      "[0]\n",
      "nan\n"
     ]
    },
    {
     "data": {
      "text/plain": [
       "nan"
      ]
     },
     "execution_count": 15,
     "metadata": {},
     "output_type": "execute_result"
    }
   ],
   "source": [
    "track = []\n",
    "test = range(5)\n",
    "def median_recursive(input_list):\n",
    "    if len(input_list) == 0:\n",
    "        print np.median(input_list)\n",
    "        return np.median(input_list)\n",
    "#         return\n",
    "    else:\n",
    "        print \"input list is:\"\n",
    "        print input_list\n",
    "        return median_recursive(input_list[:-1])\n",
    "\n",
    "a = median_recursive(test)\n",
    "a"
   ]
  },
  {
   "cell_type": "code",
   "execution_count": 16,
   "metadata": {
    "collapsed": false
   },
   "outputs": [
    {
     "data": {
      "text/plain": [
       "<generator object test at 0x10725e8c0>"
      ]
     },
     "execution_count": 16,
     "metadata": {},
     "output_type": "execute_result"
    }
   ],
   "source": [
    "def test():\n",
    "    yield 3\n",
    "test()"
   ]
  },
  {
   "cell_type": "code",
   "execution_count": 242,
   "metadata": {
    "collapsed": false
   },
   "outputs": [
    {
     "name": "stdout",
     "output_type": "stream",
     "text": [
      "[4 5 6 8 1]\n"
     ]
    }
   ],
   "source": [
    "a = np.array([4,5,6,8])\n",
    "a = np.append(a,[1])\n",
    "print a"
   ]
  },
  {
   "cell_type": "code",
   "execution_count": 24,
   "metadata": {
    "collapsed": true
   },
   "outputs": [],
   "source": [
    "from collections import deque\n",
    "from itertools import islice\n",
    "from random import random\n",
    "from math import log, ceil\n",
    "NIL = Node(End(), [], []) \n",
    "\n",
    "class Node(object):\n",
    "    __slots__ = 'value', 'next', 'width'\n",
    "    def __init__(self, value, next, width):\n",
    "        self.value, self.next, self.width = value, next, width\n",
    "\n",
    "class End(object):\n",
    "    'Sentinel object that always compares greater than another object'\n",
    "    def __cmp__(self, other):\n",
    "        return 1\n",
    "class IndexableSkiplist:\n",
    "    'Sorted collection supporting O(lg n) insertion, removal, and lookup by rank.'\n",
    "\n",
    "    def __init__(self, expected_size=100):\n",
    "        self.size = 0\n",
    "        self.maxlevels = int(1 + log(expected_size, 2))\n",
    "        self.head = Node('HEAD', [NIL]*self.maxlevels, [1]*self.maxlevels)\n",
    "\n",
    "    def __len__(self):\n",
    "        return self.size\n",
    "\n",
    "    def __getitem__(self, i):\n",
    "        node = self.head\n",
    "        i += 1\n",
    "        for level in reversed(range(self.maxlevels)):\n",
    "            while node.width[level] <= i:\n",
    "                i -= node.width[level]\n",
    "                node = node.next[level]\n",
    "        return node.value\n",
    "\n",
    "    def insert(self, value):\n",
    "        # find first node on each level where node.next[levels].value > value\n",
    "        chain = [None] * self.maxlevels\n",
    "        steps_at_level = [0] * self.maxlevels\n",
    "        node = self.head\n",
    "        for level in reversed(range(self.maxlevels)):\n",
    "            while node.next[level].value <= value:\n",
    "                steps_at_level[level] += node.width[level]\n",
    "                node = node.next[level]\n",
    "            chain[level] = node\n",
    "\n",
    "        # insert a link to the newnode at each level\n",
    "        d = min(self.maxlevels, 1 - int(log(random(), 2.0)))\n",
    "        newnode = Node(value, [None]*d, [None]*d)\n",
    "        steps = 0\n",
    "        for level in range(d):\n",
    "            prevnode = chain[level]\n",
    "            newnode.next[level] = prevnode.next[level]\n",
    "            prevnode.next[level] = newnode\n",
    "            newnode.width[level] = prevnode.width[level] - steps\n",
    "            prevnode.width[level] = steps + 1\n",
    "            steps += steps_at_level[level]\n",
    "        for level in range(d, self.maxlevels):\n",
    "            chain[level].width[level] += 1\n",
    "        self.size += 1\n",
    "\n",
    "    def remove(self, value):\n",
    "        # find first node on each level where node.next[levels].value >= value\n",
    "        chain = [None] * self.maxlevels\n",
    "        node = self.head\n",
    "        for level in reversed(range(self.maxlevels)):\n",
    "            while node.next[level].value < value:\n",
    "                node = node.next[level]\n",
    "            chain[level] = node\n",
    "        if value != chain[0].next[0].value:\n",
    "            raise KeyError('Not Found')\n",
    "\n",
    "        # remove one link at each level\n",
    "        d = len(chain[0].next[0].next)\n",
    "        for level in range(d):\n",
    "            prevnode = chain[level]\n",
    "            prevnode.width[level] += prevnode.next[level].width[level] - 1\n",
    "            prevnode.next[level] = prevnode.next[level].next[level]\n",
    "        for level in range(d, self.maxlevels):\n",
    "            chain[level].width[level] -= 1\n",
    "        self.size -= 1\n",
    "\n",
    "    def __iter__(self):\n",
    "        'Iterate over values in sorted order'\n",
    "        node = self.head.next[0]\n",
    "        while node is not NIL:\n",
    "            yield node.value\n",
    "            node = node.next[0]"
   ]
  },
  {
   "cell_type": "code",
   "execution_count": 26,
   "metadata": {
    "collapsed": false
   },
   "outputs": [],
   "source": [
    "\n",
    "class RunningMedian:\n",
    "    'Fast running median with O(lg n) updates where n is the window size'\n",
    "\n",
    "    def __init__(self, n, iterable):\n",
    "        self.it = iter(iterable)\n",
    "        self.queue = deque(islice(self.it, n))\n",
    "        self.skiplist = IndexableSkiplist(n)\n",
    "        for elem in self.queue:\n",
    "            self.skiplist.insert(elem)\n",
    "\n",
    "    def __iter__(self):\n",
    "        queue = self.queue\n",
    "        skiplist = self.skiplist\n",
    "        midpoint = len(queue) // 2\n",
    "        yield skiplist[midpoint]\n",
    "        for newelem in self.it:\n",
    "            oldelem = queue.popleft()\n",
    "            skiplist.remove(oldelem)\n",
    "            queue.append(newelem)\n",
    "            skiplist.insert(newelem)\n",
    "            yield skiplist[midpoint]\n",
    "\n",
    "a = RunningMedian(len(range(10)), range(10))"
   ]
  },
  {
   "cell_type": "code",
   "execution_count": 29,
   "metadata": {
    "collapsed": false
   },
   "outputs": [
    {
     "name": "stdout",
     "output_type": "stream",
     "text": [
      "5\n"
     ]
    }
   ],
   "source": [
    "for x in a:\n",
    "    print x"
   ]
  },
  {
   "cell_type": "code",
   "execution_count": 63,
   "metadata": {
    "collapsed": false
   },
   "outputs": [
    {
     "data": {
      "text/plain": [
       "['is #bigdata finally the answer to end poverty?         @lavanyarathnam http://ow.ly/o8gt3 #analytics',\n",
       " 'interview: xia wang, astrazeneca on #bigdata and the promise of effective         healthcare #kdn http://ow.ly/ot2uj']"
      ]
     },
     "execution_count": 63,
     "metadata": {},
     "output_type": "execute_result"
    }
   ],
   "source": [
    "test_tweets[0:2]"
   ]
  },
  {
   "cell_type": "code",
   "execution_count": 66,
   "metadata": {
    "collapsed": false
   },
   "outputs": [
    {
     "data": {
      "text/plain": [
       "False"
      ]
     },
     "execution_count": 66,
     "metadata": {},
     "output_type": "execute_result"
    }
   ],
   "source": [
    "type(test_tweets[0:2]) == str"
   ]
  },
  {
   "cell_type": "code",
   "execution_count": null,
   "metadata": {
    "collapsed": false
   },
   "outputs": [],
   "source": []
  }
 ],
 "metadata": {
  "kernelspec": {
   "display_name": "Python 2",
   "language": "python",
   "name": "python2"
  },
  "language_info": {
   "codemirror_mode": {
    "name": "ipython",
    "version": 2
   },
   "file_extension": ".py",
   "mimetype": "text/x-python",
   "name": "python",
   "nbconvert_exporter": "python",
   "pygments_lexer": "ipython2",
   "version": "2.7.9"
  }
 },
 "nbformat": 4,
 "nbformat_minor": 0
}
