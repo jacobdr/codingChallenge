{
 "cells": [
  {
   "cell_type": "code",
   "execution_count": 5,
   "metadata": {
    "collapsed": false
   },
   "outputs": [],
   "source": [
    "import numpy as np\n",
    "from codingChallenge import utils\n",
    "\n",
    "\n",
    "class MedianCalculator(object):\n",
    "    \"\"\"\n",
    "    Class used to abstract the calculation of the median\n",
    "    \"\"\"\n",
    "    def __init__(self, tweet_input):\n",
    "        self.tweet_iterable = []\n",
    "        # Handle the edge case where a single tweet is supplied as a string,\n",
    "        # not an array iterable\n",
    "        if type(tweet_input) == str:\n",
    "            self.tweet_iterable = [tweet_input]\n",
    "        else:\n",
    "            self.tweet_iterable = tweet_input\n",
    "        self.num_unique_words_sorted = []\n",
    "        self.median_list = []\n",
    "\n",
    "    def format_to_two_decimal(self, input_amount):\n",
    "        formatted_string = \"{0:.2f}\".format(input_amount)\n",
    "        return float(formatted_string)\n",
    "\n",
    "    def append_to_unique_word_list(self, tweet):\n",
    "        tweet_unique_words = len(set(tweet.split()))\n",
    "        self.num_unique_words_sorted.append(tweet_unique_words)\n",
    "        self.num_unique_words_sorted = sorted(self.num_unique_words_sorted)\n",
    "\n",
    "    def populate_median_list(self):\n",
    "        for dirty_tweet in self.tweet_iterable:\n",
    "            tweet = utils.clean_tweet(dirty_tweet)\n",
    "            self.append_to_unique_word_list(tweet)\n",
    "            current_number_of_tweets = len(self.num_unique_words_sorted)\n",
    "            # Condition if odd amount\n",
    "            if current_number_of_tweets % 2:\n",
    "                index = current_number_of_tweets / 2\n",
    "                self.median_list.append(self.num_unique_words_sorted[index])\n",
    "            # Condition if even amount\n",
    "            else:\n",
    "                left_index = (current_number_of_tweets / 2) - 1\n",
    "                right_index = current_number_of_tweets / 2\n",
    "\n",
    "                average_of_medians = self.format_to_two_decimal(\n",
    "                    (self.num_unique_words_sorted[left_index] +\n",
    "                     self.num_unique_words_sorted[right_index]) / 2.0)\n",
    "                self.median_list.append(average_of_medians)\n",
    "\n",
    "        return self.median_list\n",
    "    \n",
    "\n",
    "    def run(self):\n",
    "        \"\"\"\n",
    "        Run methods necessary to return the array of medians.\n",
    "\n",
    "        The run method helps abstract away the calling of the methods so that\n",
    "        less refacotring is needed later on.\n",
    "        \"\"\"\n",
    "        return self.populate_median_list()\n",
    "\n",
    "\n",
    "\n",
    "\n"
   ]
  },
  {
   "cell_type": "code",
   "execution_count": 2,
   "metadata": {
    "collapsed": false
   },
   "outputs": [],
   "source": [
    "test_tweets = [\n",
    "        \"is #bigdata finally the answer to end poverty? \\\n",
    "        @lavanyarathnam http://ow.ly/o8gt3 #analytics\",\n",
    "        \"interview: xia wang, astrazeneca on #bigdata and the promise of effective \\\n",
    "        healthcare #kdn http://ow.ly/ot2uj\",\n",
    "        \"big data is not just for big business. on how #bigdata is being deployed for \\\n",
    "        small businesses: http://bddy.me/1bzukb3 @cxotodayalerts #smb\"\n",
    "    ]"
   ]
  },
  {
   "cell_type": "code",
   "execution_count": 3,
   "metadata": {
    "collapsed": false
   },
   "outputs": [],
   "source": [
    "b = MedianCalculator(test_tweets[0:2])"
   ]
  },
  {
   "cell_type": "code",
   "execution_count": 4,
   "metadata": {
    "collapsed": false
   },
   "outputs": [
    {
     "data": {
      "text/plain": [
       "['is #bigdata finally the answer to end poverty?         @lavanyarathnam http://ow.ly/o8gt3 #analytics',\n",
       " 'interview: xia wang, astrazeneca on #bigdata and the promise of effective         healthcare #kdn http://ow.ly/ot2uj']"
      ]
     },
     "execution_count": 4,
     "metadata": {},
     "output_type": "execute_result"
    }
   ],
   "source": [
    "b.tweet_iterable"
   ]
  },
  {
   "cell_type": "code",
   "execution_count": 188,
   "metadata": {
    "collapsed": false
   },
   "outputs": [],
   "source": [
    "def numpy_calculate_median(tweet_iterable):\n",
    "    tweet_array = np.genfromtxt(tweet_iterable, dtype=np.string_, comments=False, delimiter=\"\\n\")\n",
    "    tweet_bag_of_words = np.array([tweet.split() for tweet in tweet_array])\n",
    "    running_list_of_uniques = []\n",
    "    running_list_of_median = []\n",
    "    for tweet in tweet_bag_of_words:\n",
    "        filtered_tweet = (np.unique(tweet))\n",
    "        running_list_of_uniques.append(len(filtered_tweet))\n",
    "        running_list_of_median.append(np.median(running_list_of_uniques))\n",
    "    return running_list_of_median"
   ]
  },
  {
   "cell_type": "code",
   "execution_count": 190,
   "metadata": {
    "collapsed": false
   },
   "outputs": [
    {
     "name": "stdout",
     "output_type": "stream",
     "text": [
      "[ 11.   12.5  14. ]\n"
     ]
    }
   ],
   "source": [
    "a = numpy_calculate_median(test_tweets)"
   ]
  },
  {
   "cell_type": "code",
   "execution_count": 193,
   "metadata": {
    "collapsed": false
   },
   "outputs": [
    {
     "name": "stdout",
     "output_type": "stream",
     "text": [
      "     11.00\n",
      "     12.50\n",
      "     14.00\n"
     ]
    }
   ],
   "source": [
    "for x in a:\n",
    "    print \"{:10.2f}\".format(x)"
   ]
  },
  {
   "cell_type": "code",
   "execution_count": 115,
   "metadata": {
    "collapsed": false
   },
   "outputs": [
    {
     "data": {
      "text/plain": [
       "array([5, 6])"
      ]
     },
     "execution_count": 115,
     "metadata": {},
     "output_type": "execute_result"
    }
   ],
   "source": [
    "np.concatenate((np.array(a), [6]))"
   ]
  },
  {
   "cell_type": "code",
   "execution_count": 60,
   "metadata": {
    "collapsed": false
   },
   "outputs": [],
   "source": [
    "def test_func(tweet_input):\n",
    "    if type(tweet_input == str):\n",
    "        return [tweet_input]\n",
    "    else:\n",
    "        return tweet_input"
   ]
  },
  {
   "cell_type": "code",
   "execution_count": 62,
   "metadata": {
    "collapsed": false
   },
   "outputs": [
    {
     "data": {
      "text/plain": [
       "[['is #bigdata finally the answer to end poverty?         @lavanyarathnam http://ow.ly/o8gt3 #analytics',\n",
       "  'interview: xia wang, astrazeneca on #bigdata and the promise of effective         healthcare #kdn http://ow.ly/ot2uj']]"
      ]
     },
     "execution_count": 62,
     "metadata": {},
     "output_type": "execute_result"
    }
   ],
   "source": [
    "test_func(test_tweets[0:2])"
   ]
  },
  {
   "cell_type": "code",
   "execution_count": 63,
   "metadata": {
    "collapsed": false
   },
   "outputs": [
    {
     "data": {
      "text/plain": [
       "['is #bigdata finally the answer to end poverty?         @lavanyarathnam http://ow.ly/o8gt3 #analytics',\n",
       " 'interview: xia wang, astrazeneca on #bigdata and the promise of effective         healthcare #kdn http://ow.ly/ot2uj']"
      ]
     },
     "execution_count": 63,
     "metadata": {},
     "output_type": "execute_result"
    }
   ],
   "source": [
    "test_tweets[0:2]"
   ]
  },
  {
   "cell_type": "code",
   "execution_count": 66,
   "metadata": {
    "collapsed": false
   },
   "outputs": [
    {
     "data": {
      "text/plain": [
       "False"
      ]
     },
     "execution_count": 66,
     "metadata": {},
     "output_type": "execute_result"
    }
   ],
   "source": [
    "type(test_tweets[0:2]) == str"
   ]
  },
  {
   "cell_type": "code",
   "execution_count": null,
   "metadata": {
    "collapsed": false
   },
   "outputs": [],
   "source": []
  }
 ],
 "metadata": {
  "kernelspec": {
   "display_name": "Python 2",
   "language": "python",
   "name": "python2"
  },
  "language_info": {
   "codemirror_mode": {
    "name": "ipython",
    "version": 2
   },
   "file_extension": ".py",
   "mimetype": "text/x-python",
   "name": "python",
   "nbconvert_exporter": "python",
   "pygments_lexer": "ipython2",
   "version": "2.7.9"
  }
 },
 "nbformat": 4,
 "nbformat_minor": 0
}
