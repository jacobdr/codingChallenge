{
 "cells": [
  {
   "cell_type": "code",
   "execution_count": 28,
   "metadata": {
    "collapsed": false
   },
   "outputs": [],
   "source": [
    "import numpy as np\n",
    "from codingChallenge import utils\n",
    "import psutil\n",
    "from threading import Thread\n",
    "import threading\n",
    "\n",
    "\n",
    "class MedianCalculator(object):\n",
    "    \"\"\"\n",
    "    Class used to abstract the calculation of the median\n",
    "    \"\"\"\n",
    "    def __init__(self, tweet_input):\n",
    "        self.tweet_iterable = []\n",
    "        # Handle the edge case where a single tweet is supplied as a string,\n",
    "        # not an array iterable\n",
    "        if type(tweet_input) == str:\n",
    "            self.tweet_iterable = [tweet_input]\n",
    "        else:\n",
    "            self.tweet_iterable = tweet_input\n",
    "        self.num_unique_words_sorted = []\n",
    "        self.median_list = []\n",
    "\n",
    "    def format_to_two_decimal(self, input_amount):\n",
    "        formatted_string = \"{0:.2f}\".format(input_amount)\n",
    "        return float(formatted_string)\n",
    "\n",
    "    def append_to_unique_word_list(self, tweet):\n",
    "        tweet_unique_words = len(set(tweet.split()))\n",
    "        self.num_unique_words_sorted.append(tweet_unique_words)\n",
    "        self.num_unique_words_sorted = sorted(self.num_unique_words_sorted)\n",
    "\n",
    "    def populate_median_list(self):\n",
    "        for dirty_tweet in self.tweet_iterable:\n",
    "            tweet = utils.clean_tweet(dirty_tweet)\n",
    "            self.append_to_unique_word_list(tweet)\n",
    "            current_number_of_tweets = len(self.num_unique_words_sorted)\n",
    "            # Condition if odd amount\n",
    "            if current_number_of_tweets % 2:\n",
    "                index = current_number_of_tweets / 2\n",
    "                self.median_list.append(self.num_unique_words_sorted[index])\n",
    "            # Condition if even amount\n",
    "            else:\n",
    "                left_index = (current_number_of_tweets / 2) - 1\n",
    "                right_index = current_number_of_tweets / 2\n",
    "\n",
    "                average_of_medians = self.format_to_two_decimal(\n",
    "                    (self.num_unique_words_sorted[left_index] +\n",
    "                     self.num_unique_words_sorted[right_index]) / 2.0)\n",
    "                self.median_list.append(average_of_medians)\n",
    "\n",
    "        return self.median_list\n",
    "\n",
    "    def numpy_calculate_median(self):\n",
    "        tweet_array = np.genfromtxt(self.tweet_iterable, dtype=np.string_,\n",
    "                                    comments=False, delimiter=\"\\n\")\n",
    "        tweet_bag_of_words = np.array([tweet.split() for tweet in tweet_array])\n",
    "        running_list_of_uniques = []\n",
    "        running_list_of_median = []\n",
    "        for tweet in tweet_bag_of_words:\n",
    "            filtered_tweet = (np.unique(tweet))\n",
    "            running_list_of_uniques.append(len(filtered_tweet))\n",
    "            running_list_of_median.append(np.median(running_list_of_uniques))\n",
    "        return running_list_of_median\n",
    "\n",
    "    def run(self):\n",
    "        \"\"\"\n",
    "        Run methods necessary to return the array of medians.\n",
    "\n",
    "        The run method helps abstract away the calling of the methods so that\n",
    "        less refacotring is needed later on.\n",
    "        \"\"\"\n",
    "        return self.numpy_calculate_median()\n",
    "\n",
    "\n",
    "\n",
    "\n"
   ]
  },
  {
   "cell_type": "code",
   "execution_count": 229,
   "metadata": {
    "collapsed": false
   },
   "outputs": [],
   "source": [
    "test_tweets = [\n",
    "        \"is #bigdata finally the answer to end poverty? \\\n",
    "        @lavanyarathnam http://ow.ly/o8gt3 #analytics\",\n",
    "        \"interview: xia wang, astrazeneca on #bigdata and the promise of effective \\\n",
    "        healthcare #kdn http://ow.ly/ot2uj\",\n",
    "        \"big data is not just for big business. on how #bigdata is being deployed for \\\n",
    "        small businesses: http://bddy.me/1bzukb3 @cxotodayalerts #smb\"\n",
    "    ]"
   ]
  },
  {
   "cell_type": "code",
   "execution_count": 8,
   "metadata": {
    "collapsed": false
   },
   "outputs": [
    {
     "data": {
      "text/plain": [
       "8"
      ]
     },
     "execution_count": 8,
     "metadata": {},
     "output_type": "execute_result"
    }
   ],
   "source": [
    "psutil.cpu_count()"
   ]
  },
  {
   "cell_type": "code",
   "execution_count": 51,
   "metadata": {
    "collapsed": false
   },
   "outputs": [
    {
     "name": "stdout",
     "output_type": "stream",
     "text": [
      "[    0     1     2 ..., 12497 12498 12499]\n",
      "[12500 12501 12502 ..., 24997 24998 24999]\n",
      "[25000 25001 25002 ..., 37497 37498 37499]\n",
      "[37500 37501 37502 ..., 49997 49998 49999]\n",
      "[50000 50001 50002 ..., 62497 62498 62499]\n",
      "[62500 62501 62502 ..., 74997 74998 74999]\n",
      "[75000 75001 75002 ..., 87497 87498 87499]\n",
      "[87500 87501 87502 ..., 99997 99998 99999]\n",
      "[  6249.5  18749.5  31249.5  43749.5  56249.5  68749.5  81249.5  93749.5]\n"
     ]
    }
   ],
   "source": [
    "# a = np.array([1,2,3,4])\n",
    "# np.array_split(a,psutil.cpu_count())\n",
    "thread_list = []\n",
    "a = np.array(range(100000))\n",
    "b = np.empty(0)\n",
    "\n",
    "lock = threading.Lock()\n",
    "NUM_CORES = psutil.cpu_count()\n",
    "\n",
    "def worker(test, lock):\n",
    "    global b\n",
    "    space = np.median(test)\n",
    "    with lock:\n",
    "        b = np.append(b, space)\n",
    "    \n",
    "for number, split in enumerate(np.array_split(a, NUM_CORES)):\n",
    "    print split\n",
    "    t = Thread(target=worker, args=(split,lock,))\n",
    "    thread_list.append(t)\n",
    "    t.start()\n",
    "for x in thread_list:\n",
    "    x.join()\n",
    "print b"
   ]
  },
  {
   "cell_type": "code",
   "execution_count": 231,
   "metadata": {
    "collapsed": false
   },
   "outputs": [
    {
     "data": {
      "text/plain": [
       "['is #bigdata finally the answer to end poverty?         @lavanyarathnam http://ow.ly/o8gt3 #analytics',\n",
       " 'interview: xia wang, astrazeneca on #bigdata and the promise of effective         healthcare #kdn http://ow.ly/ot2uj']"
      ]
     },
     "execution_count": 231,
     "metadata": {},
     "output_type": "execute_result"
    }
   ],
   "source": [
    "def distributed_numpy_count_unique(self):\n",
    "    tweet_array = np.genfromtxt(self.tweet_iterable, dtype=np.string_,\n",
    "                                comments=False, delimiter=\"\\n\")\n",
    "    word_array = np.concatenate([tweet.split() for tweet in tweet_array])\n",
    "    word_count = Counter(word_array)\n",
    "    alphabetized_count = OrderedDict(sorted(word_count.items(), key=itemgetter(0)))\n",
    "    return alphabetized_count.items()"
   ]
  },
  {
   "cell_type": "code",
   "execution_count": 247,
   "metadata": {
    "collapsed": false
   },
   "outputs": [],
   "source": [
    "def numpy_calculate_median(self):\n",
    "        tweet_array = np.genfromtxt(self, dtype=np.string_,\n",
    "                                    comments=False, delimiter=\"\\n\")\n",
    "        tweet_bag_of_words = np.array([tweet.split() for tweet in tweet_array])\n",
    "        running_list_of_uniques = np.empty(0)\n",
    "        running_list_of_median = np.empty(0)\n",
    "        for tweet in tweet_bag_of_words:\n",
    "            filtered_tweet_length = np.unique(tweet).size\n",
    "            running_list_of_uniques = np.append(running_list_of_uniques, filtered_tweet_length)\n",
    "            running_list_of_median = np.append(running_list_of_median, np.median(running_list_of_uniques))\n",
    "        return running_list_of_median"
   ]
  },
  {
   "cell_type": "code",
   "execution_count": 248,
   "metadata": {
    "collapsed": false
   },
   "outputs": [],
   "source": [
    "a = numpy_calculate_median(test_tweets)"
   ]
  },
  {
   "cell_type": "code",
   "execution_count": 249,
   "metadata": {
    "collapsed": false
   },
   "outputs": [
    {
     "data": {
      "text/plain": [
       "array([ 11. ,  12.5,  14. ])"
      ]
     },
     "execution_count": 249,
     "metadata": {},
     "output_type": "execute_result"
    }
   ],
   "source": [
    "a"
   ]
  },
  {
   "cell_type": "code",
   "execution_count": 235,
   "metadata": {
    "collapsed": false
   },
   "outputs": [
    {
     "data": {
      "text/plain": [
       "array([ 14. ,  12.5,  11. ])"
      ]
     },
     "execution_count": 235,
     "metadata": {},
     "output_type": "execute_result"
    }
   ],
   "source": []
  },
  {
   "cell_type": "code",
   "execution_count": 242,
   "metadata": {
    "collapsed": false
   },
   "outputs": [
    {
     "name": "stdout",
     "output_type": "stream",
     "text": [
      "[4 5 6 8 1]\n"
     ]
    }
   ],
   "source": [
    "a = np.array([4,5,6,8])\n",
    "a = np.append(a,[1])\n",
    "print a"
   ]
  },
  {
   "cell_type": "code",
   "execution_count": 60,
   "metadata": {
    "collapsed": false
   },
   "outputs": [],
   "source": [
    "def test_func(tweet_input):\n",
    "    if type(tweet_input == str):\n",
    "        return [tweet_input]\n",
    "    else:\n",
    "        return tweet_input"
   ]
  },
  {
   "cell_type": "code",
   "execution_count": 62,
   "metadata": {
    "collapsed": false
   },
   "outputs": [
    {
     "data": {
      "text/plain": [
       "[['is #bigdata finally the answer to end poverty?         @lavanyarathnam http://ow.ly/o8gt3 #analytics',\n",
       "  'interview: xia wang, astrazeneca on #bigdata and the promise of effective         healthcare #kdn http://ow.ly/ot2uj']]"
      ]
     },
     "execution_count": 62,
     "metadata": {},
     "output_type": "execute_result"
    }
   ],
   "source": [
    "test_func(test_tweets[0:2])"
   ]
  },
  {
   "cell_type": "code",
   "execution_count": 63,
   "metadata": {
    "collapsed": false
   },
   "outputs": [
    {
     "data": {
      "text/plain": [
       "['is #bigdata finally the answer to end poverty?         @lavanyarathnam http://ow.ly/o8gt3 #analytics',\n",
       " 'interview: xia wang, astrazeneca on #bigdata and the promise of effective         healthcare #kdn http://ow.ly/ot2uj']"
      ]
     },
     "execution_count": 63,
     "metadata": {},
     "output_type": "execute_result"
    }
   ],
   "source": [
    "test_tweets[0:2]"
   ]
  },
  {
   "cell_type": "code",
   "execution_count": 66,
   "metadata": {
    "collapsed": false
   },
   "outputs": [
    {
     "data": {
      "text/plain": [
       "False"
      ]
     },
     "execution_count": 66,
     "metadata": {},
     "output_type": "execute_result"
    }
   ],
   "source": [
    "type(test_tweets[0:2]) == str"
   ]
  },
  {
   "cell_type": "code",
   "execution_count": null,
   "metadata": {
    "collapsed": false
   },
   "outputs": [],
   "source": []
  }
 ],
 "metadata": {
  "kernelspec": {
   "display_name": "Python 2",
   "language": "python",
   "name": "python2"
  },
  "language_info": {
   "codemirror_mode": {
    "name": "ipython",
    "version": 2
   },
   "file_extension": ".py",
   "mimetype": "text/x-python",
   "name": "python",
   "nbconvert_exporter": "python",
   "pygments_lexer": "ipython2",
   "version": "2.7.9"
  }
 },
 "nbformat": 4,
 "nbformat_minor": 0
}
