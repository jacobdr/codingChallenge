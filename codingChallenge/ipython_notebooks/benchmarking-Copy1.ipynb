{
 "cells": [
  {
   "cell_type": "code",
   "execution_count": 1,
   "metadata": {
    "collapsed": true
   },
   "outputs": [],
   "source": [
    "import codingChallenge\n",
    "import profile\n",
    "import pstats\n",
    "import os"
   ]
  },
  {
   "cell_type": "code",
   "execution_count": 2,
   "metadata": {
    "collapsed": true
   },
   "outputs": [],
   "source": [
    "disp_instance = codingChallenge.dispatcher.Dispatcher(\"/Users/Jacob/Documents/Projects/DataInsight/codingChallenge/benchmark/data/1k_tweets.txt\",\n",
    "                                                     \"/Users/Jacob/Documents/Projects/DataInsight/codingChallenge/benchmark/output/\")"
   ]
  },
  {
   "cell_type": "code",
   "execution_count": 16,
   "metadata": {
    "collapsed": true
   },
   "outputs": [],
   "source": [
    "STATS_DIRECTORY = \"/Users/Jacob/Documents/Projects/DataInsight/codingChallenge/benchmark/stats/\""
   ]
  },
  {
   "cell_type": "code",
   "execution_count": 17,
   "metadata": {
    "collapsed": false
   },
   "outputs": [
    {
     "name": "stdout",
     "output_type": "stream",
     "text": [
      "/Users/Jacob/Documents/Projects/DataInsight/codingChallenge/benchmark/stats/v0.2_1kTweets_unique.txt\n"
     ]
    }
   ],
   "source": [
    "output_filename = os.path.join(STATS_DIRECTORY, \"v0.2_1kTweets_unique.txt\")\n",
    "print output_filename"
   ]
  },
  {
   "cell_type": "code",
   "execution_count": 18,
   "metadata": {
    "collapsed": false
   },
   "outputs": [],
   "source": [
    "profile.run('disp_instance.run_UniqueWordsCalculator()', output_filename)"
   ]
  },
  {
   "cell_type": "code",
   "execution_count": 19,
   "metadata": {
    "collapsed": false
   },
   "outputs": [
    {
     "data": {
      "text/plain": [
       "<pstats.Stats instance at 0x106bbeef0>"
      ]
     },
     "execution_count": 19,
     "metadata": {},
     "output_type": "execute_result"
    }
   ],
   "source": [
    "stats = pstats.Stats(output_filename)\n",
    "stats.strip_dirs()\n",
    "stats.sort_stats('tottime')"
   ]
  },
  {
   "cell_type": "code",
   "execution_count": 20,
   "metadata": {
    "collapsed": false
   },
   "outputs": [
    {
     "name": "stdout",
     "output_type": "stream",
     "text": [
      "Thu Jul  9 12:26:42 2015    /Users/Jacob/Documents/Projects/DataInsight/codingChallenge/benchmark/stats/v0.2_1kTweets_unique.txt\n",
      "\n",
      "         2728496 function calls in 15.273 seconds\n",
      "\n",
      "   Ordered by: internal time\n",
      "\n",
      "   ncalls  tottime  percall  cumtime  percall filename:lineno(function)\n",
      "     1000    9.039    0.009   14.983    0.015 collections.py:593(__add__)\n",
      "  2684409    5.721    0.000    5.721    0.000 collections.py:455(__missing__)\n",
      "     2002    0.211    0.000    0.211    0.000 :0(items)\n",
      "        1    0.055    0.055   15.220   15.220 unique_words.py:15(count_unique)\n",
      "     2001    0.052    0.000    0.117    0.000 collections.py:504(update)\n",
      "    13932    0.034    0.000    0.034    0.000 :0(get)\n",
      "     4707    0.024    0.000    0.024    0.000 collections.py:54(__setitem__)\n",
      "        1    0.019    0.019    0.043    0.043 _abcoll.py:545(update)\n",
      "     4706    0.016    0.000    0.016    0.000 :0(writerow)\n",
      "     2001    0.016    0.000    0.132    0.000 collections.py:441(__init__)\n",
      "     1001    0.014    0.000    0.025    0.000 abc.py:128(__instancecheck__)\n",
      "        1    0.012    0.012    0.023    0.023 collections.py:108(items)\n",
      "        1    0.012    0.012   15.273   15.273 dispatcher.py:24(run_UniqueWordsCalculator)\n",
      "     4707    0.011    0.000    0.011    0.000 collections.py:73(__iter__)\n",
      "     2001    0.009    0.000    0.034    0.000 :0(isinstance)\n",
      "     2003    0.007    0.000    0.007    0.000 _weakrefset.py:70(__contains__)\n",
      "     1000    0.006    0.000    0.009    0.000 utils.py:6(clean_tweet)\n",
      "     1000    0.006    0.000    0.006    0.000 :0(split)\n",
      "     1001    0.003    0.000    0.003    0.000 :0(getattr)\n",
      "     1000    0.003    0.000    0.003    0.000 :0(rstrip)\n",
      "        1    0.002    0.002    0.002    0.002 :0(sorted)\n",
      "        2    0.001    0.000    0.001    0.000 :0(open)\n",
      "        1    0.001    0.001    0.001    0.001 unique_words.py:12(__init__)\n",
      "        1    0.000    0.000   15.273   15.273 <string>:1(<module>)\n",
      "        1    0.000    0.000    0.000    0.000 :0(setprofile)\n",
      "        1    0.000    0.000   15.273   15.273 profile:0(disp_instance.run_UniqueWordsCalculator())\n",
      "        1    0.000    0.000    0.043    0.043 collections.py:38(__init__)\n",
      "        1    0.000    0.000    0.000    0.000 :0(writer)\n",
      "        1    0.000    0.000    0.000    0.000 abc.py:148(__subclasscheck__)\n",
      "        1    0.000    0.000    0.000    0.000 posixpath.py:68(join)\n",
      "        2    0.000    0.000    0.000    0.000 collections.py:132(pop)\n",
      "        1    0.000    0.000    0.000    0.000 collections.py:64(__delitem__)\n",
      "        3    0.000    0.000    0.000    0.000 :0(len)\n",
      "        1    0.000    0.000    0.000    0.000 :0(hasattr)\n",
      "        1    0.000    0.000    0.000    0.000 :0(endswith)\n",
      "        1    0.000    0.000    0.000    0.000 :0(startswith)\n",
      "        1    0.000    0.000    0.000    0.000 :0(pop)\n",
      "        0    0.000             0.000          profile:0(profiler)\n",
      "\n",
      "\n"
     ]
    },
    {
     "data": {
      "text/plain": [
       "<pstats.Stats instance at 0x106bbeef0>"
      ]
     },
     "execution_count": 20,
     "metadata": {},
     "output_type": "execute_result"
    }
   ],
   "source": [
    "stats.print_stats()"
   ]
  },
  {
   "cell_type": "code",
   "execution_count": null,
   "metadata": {
    "collapsed": true
   },
   "outputs": [],
   "source": []
  },
  {
   "cell_type": "code",
   "execution_count": null,
   "metadata": {
    "collapsed": true
   },
   "outputs": [],
   "source": []
  },
  {
   "cell_type": "code",
   "execution_count": null,
   "metadata": {
    "collapsed": true
   },
   "outputs": [],
   "source": []
  },
  {
   "cell_type": "code",
   "execution_count": 4,
   "metadata": {
    "collapsed": false
   },
   "outputs": [
    {
     "name": "stdout",
     "output_type": "stream",
     "text": [
      "RAW\n",
      "================================================================================\n",
      "         57356 function calls (66 primitive calls) in 0.294 seconds\n",
      "\n",
      "   Ordered by: standard name\n",
      "\n",
      "   ncalls  tottime  percall  cumtime  percall filename:lineno(function)\n",
      "       21    0.000    0.000    0.000    0.000 :0(append)\n",
      "       20    0.000    0.000    0.000    0.000 :0(extend)\n",
      "        1    0.000    0.000    0.000    0.000 :0(setprofile)\n",
      " 57291/21    0.293    0.000    0.293    0.014 <ipython-input-4-eddc1a1ee2b2>:1(fib)\n",
      "     21/1    0.001    0.000    0.294    0.294 <ipython-input-4-eddc1a1ee2b2>:10(fib_seq)\n",
      "        1    0.000    0.000    0.294    0.294 <string>:1(<module>)\n",
      "        1    0.000    0.000    0.294    0.294 profile:0(fib_seq(20))\n",
      "        0    0.000             0.000          profile:0(profiler)\n",
      "\n",
      "\n"
     ]
    }
   ],
   "source": [
    "def fib(n):\n",
    "    # from http://en.literateprograms.org/Fibonacci_numbers_(Python)\n",
    "    if n == 0:\n",
    "        return 0\n",
    "    elif n == 1:\n",
    "        return 1\n",
    "    else:\n",
    "        return fib(n-1) + fib(n-2)\n",
    "\n",
    "def fib_seq(n):\n",
    "    seq = [ ]\n",
    "    if n > 0:\n",
    "        seq.extend(fib_seq(n-1))\n",
    "    seq.append(fib(n))\n",
    "    return seq\n",
    "\n",
    "print 'RAW'\n",
    "print '=' * 80\n",
    "profile.run('fib_seq(20)')"
   ]
  },
  {
   "cell_type": "code",
   "execution_count": null,
   "metadata": {
    "collapsed": true
   },
   "outputs": [],
   "source": []
  }
 ],
 "metadata": {
  "kernelspec": {
   "display_name": "Python 2",
   "language": "python",
   "name": "python2"
  },
  "language_info": {
   "codemirror_mode": {
    "name": "ipython",
    "version": 2
   },
   "file_extension": ".py",
   "mimetype": "text/x-python",
   "name": "python",
   "nbconvert_exporter": "python",
   "pygments_lexer": "ipython2",
   "version": "2.7.9"
  }
 },
 "nbformat": 4,
 "nbformat_minor": 0
}
