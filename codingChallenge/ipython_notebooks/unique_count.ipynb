{
 "cells": [
  {
   "cell_type": "code",
   "execution_count": 1,
   "metadata": {
    "collapsed": true
   },
   "outputs": [],
   "source": [
    "from collections import Counter, OrderedDict\n",
    "from operator import itemgetter\n",
    "import tempfile\n",
    "\n",
    "from codingChallenge import utils\n",
    "\n",
    "\n",
    "class UniqueWordsCalculator(object):\n",
    "    \"\"\"\n",
    "    Class container for the functions related to coungint the number of unique\n",
    "    words as Tweets arrive\n",
    "    \"\"\"\n",
    "    def __init__(self, tweet_iterable):\n",
    "        self.tweet_iterable = tweet_iterable\n",
    "\n",
    "    def count_unique(self):\n",
    "        \"\"\"\n",
    "        This is the function documentation\n",
    "        \"\"\"\n",
    "        count_container = Counter()\n",
    "        for tweet in self.tweet_iterable:\n",
    "            # Encapsulte tweet in string call and return strip to\n",
    "            # escape any strange characters\n",
    "            count_container = count_container + \\\n",
    "                Counter(utils.clean_tweet(tweet).split(\" \"))\n",
    "\n",
    "        sorted_count_dictionary = OrderedDict(sorted(count_container.items(),\n",
    "                                              key=itemgetter(0)))\n",
    "\n",
    "        # Remove edge cases of blank string or space string\n",
    "        sorted_count_dictionary.pop(' ', None)\n",
    "        sorted_count_dictionary.pop('', None)\n",
    "        return sorted_count_dictionary\n",
    "\n",
    "    def counter_on_all_words(self):\n",
    "        with tempfile.TemporaryFile() as tmpfile:\n",
    "            # Clean each tweet and write it out to the temporary file, with\n",
    "            # a trailing newline\n",
    "            for tweet in self.tweet_iterable:\n",
    "                for word in utils.clean_tweet(tweet).split(\" \"):\n",
    "                    tmpfile.write(word + \"\\n\")\n",
    "            # Make sure that the file is at the beginning and then create a\n",
    "            # Counter from it to get the unique items\n",
    "            tmpfile.seek(0)\n",
    "            count_container = Counter(tmpfile.readlines())\n",
    "            sorted_count_dictionary = OrderedDict(sorted(\n",
    "                                                  count_container.items(),\n",
    "                                                  key=itemgetter(0)))\n",
    "            return sorted_count_dictionary.items()\n",
    "\n",
    "    def run(self):\n",
    "        \"\"\"\n",
    "        Create a generic run method on the object to make reimplemntation\n",
    "        easier. That way code in the Dispatcher doesn't need to be refactored\n",
    "        \"\"\"\n",
    "        # return self.count_unique()\n",
    "        return self.counter_on_all_words()\n",
    "\n"
   ]
  },
  {
   "cell_type": "code",
   "execution_count": 2,
   "metadata": {
    "collapsed": true
   },
   "outputs": [],
   "source": [
    "test_tweets = [\"this is a test\", \"this is a test\", \"this is a test\", \"this is a test\"]"
   ]
  },
  {
   "cell_type": "code",
   "execution_count": 3,
   "metadata": {
    "collapsed": true
   },
   "outputs": [],
   "source": [
    "inst = UniqueWordsCalculator(test_tweets)"
   ]
  },
  {
   "cell_type": "code",
   "execution_count": 4,
   "metadata": {
    "collapsed": false
   },
   "outputs": [
    {
     "data": {
      "text/plain": [
       "[('a\\n', 4), ('is\\n', 4), ('test\\n', 4), ('this\\n', 4)]"
      ]
     },
     "execution_count": 4,
     "metadata": {},
     "output_type": "execute_result"
    }
   ],
   "source": [
    "inst.counter_on_all_words()"
   ]
  },
  {
   "cell_type": "code",
   "execution_count": null,
   "metadata": {
    "collapsed": true
   },
   "outputs": [],
   "source": []
  }
 ],
 "metadata": {
  "kernelspec": {
   "display_name": "Python 2",
   "language": "python",
   "name": "python2"
  },
  "language_info": {
   "codemirror_mode": {
    "name": "ipython",
    "version": 2
   },
   "file_extension": ".py",
   "mimetype": "text/x-python",
   "name": "python",
   "nbconvert_exporter": "python",
   "pygments_lexer": "ipython2",
   "version": "2.7.9"
  }
 },
 "nbformat": 4,
 "nbformat_minor": 0
}
