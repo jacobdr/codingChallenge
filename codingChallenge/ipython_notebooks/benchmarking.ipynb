{
 "cells": [
  {
   "cell_type": "code",
   "execution_count": 3,
   "metadata": {
    "collapsed": false
   },
   "outputs": [
    {
     "name": "stdout",
     "output_type": "stream",
     "text": [
      "['', '/Users/Jacob/Documents/Projects/DataInsight/codingChallenge/', '/Users/Jacob/Documents/Projects/DataInsight/codingChallenge/', '/Users/Jacob/anaconda/lib/python2.7/site-packages/taxcalc-0.4.5-py2.7.egg', '/Users/Jacob/anaconda/lib/python2.7/site-packages/codingChallenge-0.0.1-py2.7.egg', '/Users/Jacob/anaconda/lib/python27.zip', '/Users/Jacob/anaconda/lib/python2.7', '/Users/Jacob/anaconda/lib/python2.7/plat-darwin', '/Users/Jacob/anaconda/lib/python2.7/plat-mac', '/Users/Jacob/anaconda/lib/python2.7/plat-mac/lib-scriptpackages', '/Users/Jacob/anaconda/lib/python2.7/lib-tk', '/Users/Jacob/anaconda/lib/python2.7/lib-old', '/Users/Jacob/anaconda/lib/python2.7/lib-dynload', '/Users/Jacob/anaconda/lib/python2.7/site-packages', '/Users/Jacob/anaconda/lib/python2.7/site-packages/PIL', '/Users/Jacob/anaconda/lib/python2.7/site-packages/Sphinx-1.3.1-py2.7.egg', '/Users/Jacob/anaconda/lib/python2.7/site-packages/aeosa', '/Users/Jacob/anaconda/lib/python2.7/site-packages/setuptools-18.0.1-py2.7.egg', '/Users/Jacob/anaconda/lib/python2.7/site-packages/IPython/extensions']\n"
     ]
    }
   ],
   "source": [
    "import sys\n",
    "sys.path.insert(1, \"/Users/Jacob/Documents/Projects/DataInsight/codingChallenge/\")\n",
    "print sys.path\n",
    "import codingChallenge\n",
    "import profile\n",
    "import pstats\n",
    "import os\n"
   ]
  },
  {
   "cell_type": "code",
   "execution_count": 4,
   "metadata": {
    "collapsed": false
   },
   "outputs": [],
   "source": [
    "disp_instance = codingChallenge.dispatcher.Dispatcher(\"/Users/Jacob/Documents/Projects/DataInsight/codingChallenge/benchmark/data/5k_tweets.txt\",\n",
    "                                                     \"/Users/Jacob/Documents/Projects/DataInsight/codingChallenge/benchmark/output/\")"
   ]
  },
  {
   "cell_type": "code",
   "execution_count": 5,
   "metadata": {
    "collapsed": true
   },
   "outputs": [],
   "source": [
    "STATS_DIRECTORY = \"/Users/Jacob/Documents/Projects/DataInsight/codingChallenge/benchmark/stats/\""
   ]
  },
  {
   "cell_type": "code",
   "execution_count": 6,
   "metadata": {
    "collapsed": false
   },
   "outputs": [
    {
     "name": "stdout",
     "output_type": "stream",
     "text": [
      "/Users/Jacob/Documents/Projects/DataInsight/codingChallenge/benchmark/stats/v0.4_5kTweets_unique.txt\n"
     ]
    }
   ],
   "source": [
    "output_filename = os.path.join(STATS_DIRECTORY, \"v0.4_100kTweets_unique.txt\")\n",
    "print output_filename\n"
   ]
  },
  {
   "cell_type": "code",
   "execution_count": 7,
   "metadata": {
    "collapsed": false
   },
   "outputs": [],
   "source": [
    "# disp_instance.run_UniqueWordsCalculator()"
   ]
  },
  {
   "cell_type": "code",
   "execution_count": 8,
   "metadata": {
    "collapsed": false
   },
   "outputs": [],
   "source": [
    "profile.run('disp_instance.run_UniqueWordsCalculator()', output_filename)"
   ]
  },
  {
   "cell_type": "code",
   "execution_count": 9,
   "metadata": {
    "collapsed": false
   },
   "outputs": [
    {
     "data": {
      "text/plain": [
       "<pstats.Stats instance at 0x107748170>"
      ]
     },
     "execution_count": 9,
     "metadata": {},
     "output_type": "execute_result"
    }
   ],
   "source": [
    "stats = pstats.Stats(output_filename)\n",
    "stats.strip_dirs()\n",
    "stats.sort_stats('cumulative')"
   ]
  },
  {
   "cell_type": "code",
   "execution_count": 10,
   "metadata": {
    "collapsed": false
   },
   "outputs": [
    {
     "name": "stdout",
     "output_type": "stream",
     "text": [
      "Thu Jul  9 20:12:45 2015    /Users/Jacob/Documents/Projects/DataInsight/codingChallenge/benchmark/stats/v0.4_5kTweets_unique.txt\n",
      "\n",
      "         157486 function calls (157475 primitive calls) in 1.087 seconds\n",
      "\n",
      "   Ordered by: cumulative time\n",
      "\n",
      "   ncalls  tottime  percall  cumtime  percall filename:lineno(function)\n",
      "        1    0.000    0.000    1.087    1.087 profile:0(disp_instance.run_UniqueWordsCalculator())\n",
      "        1    0.001    0.001    1.086    1.086 <string>:1(<module>)\n",
      "        1    0.050    0.050    1.085    1.085 dispatcher.py:24(run_UniqueWordsCalculator)\n",
      "        1    0.001    0.001    0.990    0.990 unique_words.py:61(run)\n",
      "        1    0.018    0.018    0.989    0.989 unique_words.py:52(numpy_count_unique)\n",
      "        1    0.000    0.000    0.391    0.391 collections.py:441(__init__)\n",
      "        1    0.220    0.220    0.391    0.391 collections.py:504(update)\n",
      "        1    0.118    0.118    0.306    0.306 npyio.py:1184(genfromtxt)\n",
      "    68491    0.171    0.000    0.171    0.000 :0(get)\n",
      "        1    0.000    0.000    0.141    0.141 collections.py:38(__init__)\n",
      "        1    0.057    0.057    0.140    0.140 _abcoll.py:545(update)\n",
      "     5001    0.051    0.000    0.089    0.000 _iotools.py:215(_delimited_splitter)\n",
      "        1    0.045    0.045    0.085    0.085 collections.py:108(items)\n",
      "    16255    0.083    0.000    0.083    0.000 collections.py:54(__setitem__)\n",
      "    15002    0.047    0.000    0.047    0.000 :0(split)\n",
      "    16255    0.044    0.000    0.044    0.000 :0(write)\n",
      "     5010    0.041    0.000    0.041    0.000 :0(len)\n",
      "     5000    0.041    0.000    0.041    0.000 :0(append)\n",
      "    16256    0.040    0.000    0.040    0.000 collections.py:73(__iter__)\n",
      "        1    0.016    0.016    0.016    0.016 :0(concatenate)\n",
      "     5001    0.013    0.000    0.013    0.000 :0(strip)\n",
      "     5000    0.012    0.000    0.012    0.000 _iotools.py:666(_loose_call)\n",
      "        1    0.009    0.009    0.009    0.009 :0(sorted)\n",
      "        1    0.002    0.002    0.002    0.002 :0(array)\n",
      "        3    0.002    0.001    0.002    0.001 :0(items)\n",
      "        2    0.001    0.001    0.001    0.001 :0(open)\n",
      "        3    0.001    0.000    0.001    0.000 :0(zip)\n",
      "       16    0.000    0.000    0.001    0.000 :0(isinstance)\n",
      "      7/3    0.000    0.000    0.001    0.000 abc.py:148(__subclasscheck__)\n",
      "        2    0.000    0.000    0.001    0.000 abc.py:128(__instancecheck__)\n",
      "        1    0.000    0.000    0.001    0.001 _iotools.py:112(flatten_dtype)\n",
      "        1    0.000    0.000    0.000    0.000 fromnumeric.py:2259(prod)\n",
      "    20/14    0.000    0.000    0.000    0.000 :0(issubclass)\n",
      "        1    0.000    0.000    0.000    0.000 _iotools.py:589(__init__)\n",
      "        1    0.000    0.000    0.000    0.000 _methods.py:34(_prod)\n",
      "        1    0.000    0.000    0.000    0.000 :0(reduce)\n",
      "       13    0.000    0.000    0.000    0.000 _weakrefset.py:58(__iter__)\n",
      "        1    0.000    0.000    0.000    0.000 :0(setprofile)\n",
      "        5    0.000    0.000    0.000    0.000 numerictypes.py:736(issubdtype)\n",
      "        1    0.000    0.000    0.000    0.000 :0(next)\n",
      "        7    0.000    0.000    0.000    0.000 _weakrefset.py:26(__exit__)\n",
      "        1    0.000    0.000    0.000    0.000 _iotools.py:816(easy_dtype)\n",
      "        5    0.000    0.000    0.000    0.000 numerictypes.py:668(issubclass_)\n",
      "       14    0.000    0.000    0.000    0.000 _weakrefset.py:70(__contains__)\n",
      "      2/1    0.000    0.000    0.000    0.000 py3k.py:79(asbytes_nested)\n",
      "        7    0.000    0.000    0.000    0.000 _weakrefset.py:83(add)\n",
      "        7    0.000    0.000    0.000    0.000 _weakrefset.py:20(__enter__)\n",
      "       15    0.000    0.000    0.000    0.000 :0(add)\n",
      "        1    0.000    0.000    0.000    0.000 _iotools.py:30(_is_string_like)\n",
      "        2    0.000    0.000    0.000    0.000 :0(range)\n",
      "        1    0.000    0.000    0.000    0.000 posixpath.py:68(join)\n",
      "        1    0.000    0.000    0.000    0.000 :0(update)\n",
      "        9    0.000    0.000    0.000    0.000 :0(getattr)\n",
      "        1    0.000    0.000    0.000    0.000 _iotools.py:189(__init__)\n",
      "        1    0.000    0.000    0.000    0.000 _iotools.py:304(__init__)\n",
      "        7    0.000    0.000    0.000    0.000 _weakrefset.py:16(__init__)\n",
      "        7    0.000    0.000    0.000    0.000 _abcoll.py:98(__subclasshook__)\n",
      "        7    0.000    0.000    0.000    0.000 :0(remove)\n",
      "        1    0.000    0.000    0.000    0.000 :0(mro)\n",
      "        3    0.000    0.000    0.000    0.000 :0(hasattr)\n",
      "        6    0.000    0.000    0.000    0.000 :0(__subclasses__)\n",
      "        7    0.000    0.000    0.000    0.000 _weakrefset.py:52(_commit_removals)\n",
      "        3    0.000    0.000    0.000    0.000 _weakrefset.py:36(__init__)\n",
      "        1    0.000    0.000    0.000    0.000 :0(squeeze)\n",
      "        1    0.000    0.000    0.000    0.000 :0(iter)\n",
      "        1    0.000    0.000    0.000    0.000 _iotools.py:539(_dtypeortype)\n",
      "        1    0.000    0.000    0.000    0.000 :0(endswith)\n",
      "        1    0.000    0.000    0.000    0.000 _iotools.py:40(_is_bytes_like)\n",
      "        1    0.000    0.000    0.000    0.000 :0(startswith)\n",
      "        1    0.000    0.000    0.000    0.000 :0(extend)\n",
      "        1    0.000    0.000    0.000    0.000 unique_words.py:13(__init__)\n",
      "        0    0.000             0.000          profile:0(profiler)\n",
      "\n",
      "\n"
     ]
    },
    {
     "data": {
      "text/plain": [
       "<pstats.Stats instance at 0x107748170>"
      ]
     },
     "execution_count": 10,
     "metadata": {},
     "output_type": "execute_result"
    }
   ],
   "source": [
    "stats.print_stats()"
   ]
  },
  {
   "cell_type": "code",
   "execution_count": 2,
   "metadata": {
    "collapsed": false
   },
   "outputs": [
    {
     "data": {
      "text/plain": [
       "['__class__',\n",
       " '__delattr__',\n",
       " '__dict__',\n",
       " '__doc__',\n",
       " '__format__',\n",
       " '__getattribute__',\n",
       " '__hash__',\n",
       " '__init__',\n",
       " '__module__',\n",
       " '__new__',\n",
       " '__reduce__',\n",
       " '__reduce_ex__',\n",
       " '__repr__',\n",
       " '__setattr__',\n",
       " '__sizeof__',\n",
       " '__str__',\n",
       " '__subclasshook__',\n",
       " '__weakref__',\n",
       " 'count_unique',\n",
       " 'counter_on_all_words',\n",
       " 'numpy_count_unique',\n",
       " 'run']"
      ]
     },
     "execution_count": 2,
     "metadata": {},
     "output_type": "execute_result"
    }
   ],
   "source": [
    "dir(codingChallenge.dispatcher.UniqueWordsCalculator)"
   ]
  },
  {
   "cell_type": "code",
   "execution_count": 4,
   "metadata": {
    "collapsed": false
   },
   "outputs": [
    {
     "name": "stdout",
     "output_type": "stream",
     "text": [
      "RAW\n",
      "================================================================================\n",
      "         57356 function calls (66 primitive calls) in 0.294 seconds\n",
      "\n",
      "   Ordered by: standard name\n",
      "\n",
      "   ncalls  tottime  percall  cumtime  percall filename:lineno(function)\n",
      "       21    0.000    0.000    0.000    0.000 :0(append)\n",
      "       20    0.000    0.000    0.000    0.000 :0(extend)\n",
      "        1    0.000    0.000    0.000    0.000 :0(setprofile)\n",
      " 57291/21    0.293    0.000    0.293    0.014 <ipython-input-4-eddc1a1ee2b2>:1(fib)\n",
      "     21/1    0.001    0.000    0.294    0.294 <ipython-input-4-eddc1a1ee2b2>:10(fib_seq)\n",
      "        1    0.000    0.000    0.294    0.294 <string>:1(<module>)\n",
      "        1    0.000    0.000    0.294    0.294 profile:0(fib_seq(20))\n",
      "        0    0.000             0.000          profile:0(profiler)\n",
      "\n",
      "\n"
     ]
    }
   ],
   "source": [
    "def fib(n):\n",
    "    # from http://en.literateprograms.org/Fibonacci_numbers_(Python)\n",
    "    if n == 0:\n",
    "        return 0\n",
    "    elif n == 1:\n",
    "        return 1\n",
    "    else:\n",
    "        return fib(n-1) + fib(n-2)\n",
    "\n",
    "def fib_seq(n):\n",
    "    seq = [ ]\n",
    "    if n > 0:\n",
    "        seq.extend(fib_seq(n-1))\n",
    "    seq.append(fib(n))\n",
    "    return seq\n",
    "\n",
    "print 'RAW'\n",
    "print '=' * 80\n",
    "profile.run('fib_seq(20)')"
   ]
  },
  {
   "cell_type": "code",
   "execution_count": null,
   "metadata": {
    "collapsed": true
   },
   "outputs": [],
   "source": []
  }
 ],
 "metadata": {
  "kernelspec": {
   "display_name": "Python 2",
   "language": "python",
   "name": "python2"
  },
  "language_info": {
   "codemirror_mode": {
    "name": "ipython",
    "version": 2
   },
   "file_extension": ".py",
   "mimetype": "text/x-python",
   "name": "python",
   "nbconvert_exporter": "python",
   "pygments_lexer": "ipython2",
   "version": "2.7.9"
  }
 },
 "nbformat": 4,
 "nbformat_minor": 0
}
