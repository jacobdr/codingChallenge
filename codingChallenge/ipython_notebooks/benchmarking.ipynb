{
 "cells": [
  {
   "cell_type": "code",
   "execution_count": 2,
   "metadata": {
    "collapsed": true
   },
   "outputs": [],
   "source": [
    "import codingChallenge\n",
    "import profile\n",
    "import pstats\n",
    "import os"
   ]
  },
  {
   "cell_type": "code",
   "execution_count": 3,
   "metadata": {
    "collapsed": false
   },
   "outputs": [],
   "source": [
    "disp_instance = codingChallenge.dispatcher.Dispatcher(\"/Users/Jacob/Documents/Projects/DataInsight/codingChallenge/benchmark/data/5k_tweets.txt\",\n",
    "                                                     \"/Users/Jacob/Documents/Projects/DataInsight/codingChallenge/benchmark/output/\")"
   ]
  },
  {
   "cell_type": "code",
   "execution_count": 4,
   "metadata": {
    "collapsed": true
   },
   "outputs": [],
   "source": [
    "STATS_DIRECTORY = \"/Users/Jacob/Documents/Projects/DataInsight/codingChallenge/benchmark/stats/\""
   ]
  },
  {
   "cell_type": "code",
   "execution_count": 5,
   "metadata": {
    "collapsed": false
   },
   "outputs": [
    {
     "name": "stdout",
     "output_type": "stream",
     "text": [
      "/Users/Jacob/Documents/Projects/DataInsight/codingChallenge/benchmark/stats/v0.3_5kTweets_unique.txt\n"
     ]
    }
   ],
   "source": [
    "output_filename = os.path.join(STATS_DIRECTORY, \"v0.3_5kTweets_unique.txt\")\n",
    "print output_filename\n"
   ]
  },
  {
   "cell_type": "code",
   "execution_count": 6,
   "metadata": {
    "collapsed": false
   },
   "outputs": [],
   "source": [
    "# disp_instance.run_UniqueWordsCalculator()"
   ]
  },
  {
   "cell_type": "code",
   "execution_count": 7,
   "metadata": {
    "collapsed": false
   },
   "outputs": [],
   "source": [
    "profile.run('disp_instance.run_UniqueWordsCalculator()', output_filename)"
   ]
  },
  {
   "cell_type": "code",
   "execution_count": 8,
   "metadata": {
    "collapsed": false
   },
   "outputs": [
    {
     "data": {
      "text/plain": [
       "<pstats.Stats instance at 0x106e16b00>"
      ]
     },
     "execution_count": 8,
     "metadata": {},
     "output_type": "execute_result"
    }
   ],
   "source": [
    "stats = pstats.Stats(output_filename)\n",
    "stats.strip_dirs()\n",
    "stats.sort_stats('cumulative')"
   ]
  },
  {
   "cell_type": "code",
   "execution_count": 9,
   "metadata": {
    "collapsed": false
   },
   "outputs": [
    {
     "name": "stdout",
     "output_type": "stream",
     "text": [
      "Thu Jul  9 16:17:06 2015    /Users/Jacob/Documents/Projects/DataInsight/codingChallenge/benchmark/stats/v0.3_5kTweets_unique.txt\n",
      "\n",
      "         46347080 function calls (46347075 primitive calls) in 280.145 seconds\n",
      "\n",
      "   Ordered by: cumulative time\n",
      "\n",
      "   ncalls  tottime  percall  cumtime  percall filename:lineno(function)\n",
      "        1    0.000    0.000  280.145  280.145 profile:0(disp_instance.run_UniqueWordsCalculator())\n",
      "        1    0.001    0.001  280.145  280.145 <string>:1(<module>)\n",
      "        1    0.043    0.043  280.144  280.144 dispatcher.py:24(run_UniqueWordsCalculator)\n",
      "        1    0.775    0.775  279.949  279.949 unique_words.py:15(count_unique)\n",
      "     5000  167.673    0.034  278.288    0.056 collections.py:593(__add__)\n",
      " 46147639  103.598    0.000  103.598    0.000 collections.py:455(__missing__)\n",
      "    10002    6.955    0.001    6.955    0.001 :0(items)\n",
      "    10001    0.086    0.000    0.702    0.000 collections.py:441(__init__)\n",
      "    10001    0.272    0.000    0.617    0.000 collections.py:504(update)\n",
      "    10001    0.051    0.000    0.184    0.000 :0(isinstance)\n",
      "    70573    0.175    0.000    0.175    0.000 :0(get)\n",
      "        1    0.000    0.000    0.139    0.139 collections.py:38(__init__)\n",
      "        1    0.057    0.057    0.139    0.139 _abcoll.py:545(update)\n",
      "     5001    0.077    0.000    0.133    0.000 abc.py:128(__instancecheck__)\n",
      "        1    0.049    0.049    0.093    0.093 collections.py:108(items)\n",
      "    16256    0.082    0.000    0.082    0.000 collections.py:54(__setitem__)\n",
      "    16255    0.058    0.000    0.058    0.000 :0(writerow)\n",
      "     5000    0.035    0.000    0.050    0.000 utils.py:6(clean_tweet)\n",
      "    16256    0.044    0.000    0.044    0.000 collections.py:73(__iter__)\n",
      "    10006    0.041    0.000    0.041    0.000 _weakrefset.py:70(__contains__)\n",
      "     5000    0.031    0.000    0.031    0.000 :0(split)\n",
      "     5005    0.015    0.000    0.015    0.000 :0(getattr)\n",
      "     5000    0.015    0.000    0.015    0.000 :0(rstrip)\n",
      "        1    0.011    0.011    0.011    0.011 :0(sorted)\n",
      "      4/2    0.000    0.000    0.001    0.000 abc.py:148(__subclasscheck__)\n",
      "      6/3    0.000    0.000    0.000    0.000 :0(issubclass)\n",
      "        1    0.000    0.000    0.000    0.000 :0(setprofile)\n",
      "        8    0.000    0.000    0.000    0.000 _weakrefset.py:58(__iter__)\n",
      "        2    0.000    0.000    0.000    0.000 :0(open)\n",
      "        2    0.000    0.000    0.000    0.000 collections.py:132(pop)\n",
      "        1    0.000    0.000    0.000    0.000 collections.py:64(__delitem__)\n",
      "        4    0.000    0.000    0.000    0.000 _weakrefset.py:26(__exit__)\n",
      "        4    0.000    0.000    0.000    0.000 _weakrefset.py:83(add)\n",
      "        4    0.000    0.000    0.000    0.000 _weakrefset.py:20(__enter__)\n",
      "        1    0.000    0.000    0.000    0.000 :0(pop)\n",
      "        8    0.000    0.000    0.000    0.000 :0(add)\n",
      "        1    0.000    0.000    0.000    0.000 posixpath.py:68(join)\n",
      "        4    0.000    0.000    0.000    0.000 _abcoll.py:98(__subclasshook__)\n",
      "        4    0.000    0.000    0.000    0.000 _weakrefset.py:52(_commit_removals)\n",
      "        4    0.000    0.000    0.000    0.000 _weakrefset.py:16(__init__)\n",
      "        4    0.000    0.000    0.000    0.000 :0(remove)\n",
      "        3    0.000    0.000    0.000    0.000 _weakrefset.py:36(__init__)\n",
      "        3    0.000    0.000    0.000    0.000 :0(__subclasses__)\n",
      "        3    0.000    0.000    0.000    0.000 :0(len)\n",
      "        1    0.000    0.000    0.000    0.000 :0(startswith)\n",
      "        1    0.000    0.000    0.000    0.000 :0(writer)\n",
      "        1    0.000    0.000    0.000    0.000 :0(endswith)\n",
      "        1    0.000    0.000    0.000    0.000 :0(hasattr)\n",
      "        1    0.000    0.000    0.000    0.000 unique_words.py:12(__init__)\n",
      "        0    0.000             0.000          profile:0(profiler)\n",
      "\n",
      "\n"
     ]
    },
    {
     "data": {
      "text/plain": [
       "<pstats.Stats instance at 0x106e16b00>"
      ]
     },
     "execution_count": 9,
     "metadata": {},
     "output_type": "execute_result"
    }
   ],
   "source": [
    "stats.print_stats()"
   ]
  },
  {
   "cell_type": "code",
   "execution_count": null,
   "metadata": {
    "collapsed": true
   },
   "outputs": [],
   "source": []
  },
  {
   "cell_type": "code",
   "execution_count": 4,
   "metadata": {
    "collapsed": false
   },
   "outputs": [
    {
     "name": "stdout",
     "output_type": "stream",
     "text": [
      "RAW\n",
      "================================================================================\n",
      "         57356 function calls (66 primitive calls) in 0.294 seconds\n",
      "\n",
      "   Ordered by: standard name\n",
      "\n",
      "   ncalls  tottime  percall  cumtime  percall filename:lineno(function)\n",
      "       21    0.000    0.000    0.000    0.000 :0(append)\n",
      "       20    0.000    0.000    0.000    0.000 :0(extend)\n",
      "        1    0.000    0.000    0.000    0.000 :0(setprofile)\n",
      " 57291/21    0.293    0.000    0.293    0.014 <ipython-input-4-eddc1a1ee2b2>:1(fib)\n",
      "     21/1    0.001    0.000    0.294    0.294 <ipython-input-4-eddc1a1ee2b2>:10(fib_seq)\n",
      "        1    0.000    0.000    0.294    0.294 <string>:1(<module>)\n",
      "        1    0.000    0.000    0.294    0.294 profile:0(fib_seq(20))\n",
      "        0    0.000             0.000          profile:0(profiler)\n",
      "\n",
      "\n"
     ]
    }
   ],
   "source": [
    "def fib(n):\n",
    "    # from http://en.literateprograms.org/Fibonacci_numbers_(Python)\n",
    "    if n == 0:\n",
    "        return 0\n",
    "    elif n == 1:\n",
    "        return 1\n",
    "    else:\n",
    "        return fib(n-1) + fib(n-2)\n",
    "\n",
    "def fib_seq(n):\n",
    "    seq = [ ]\n",
    "    if n > 0:\n",
    "        seq.extend(fib_seq(n-1))\n",
    "    seq.append(fib(n))\n",
    "    return seq\n",
    "\n",
    "print 'RAW'\n",
    "print '=' * 80\n",
    "profile.run('fib_seq(20)')"
   ]
  },
  {
   "cell_type": "code",
   "execution_count": null,
   "metadata": {
    "collapsed": true
   },
   "outputs": [],
   "source": []
  }
 ],
 "metadata": {
  "kernelspec": {
   "display_name": "Python 2",
   "language": "python",
   "name": "python2"
  },
  "language_info": {
   "codemirror_mode": {
    "name": "ipython",
    "version": 2
   },
   "file_extension": ".py",
   "mimetype": "text/x-python",
   "name": "python",
   "nbconvert_exporter": "python",
   "pygments_lexer": "ipython2",
   "version": "2.7.9"
  }
 },
 "nbformat": 4,
 "nbformat_minor": 0
}
