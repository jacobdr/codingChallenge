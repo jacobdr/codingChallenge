{
 "cells": [
  {
   "cell_type": "code",
   "execution_count": 8,
   "metadata": {
    "collapsed": false
   },
   "outputs": [
    {
     "name": "stdout",
     "output_type": "stream",
     "text": [
      "['', '/Users/Jacob/Documents/Projects/DataInsight/codingChallenge/', '/Users/Jacob/Documents/Projects/DataInsight/codingChallenge/', '/Users/Jacob/Documents/Projects/DataInsight/codingChallenge/', '/Users/Jacob/anaconda/lib/python2.7/site-packages/taxcalc-0.4.5-py2.7.egg', '/Users/Jacob/Documents/Projects/DataInsight/codingChallenge', '/Users/Jacob/anaconda/lib/python27.zip', '/Users/Jacob/anaconda/lib/python2.7', '/Users/Jacob/anaconda/lib/python2.7/plat-darwin', '/Users/Jacob/anaconda/lib/python2.7/plat-mac', '/Users/Jacob/anaconda/lib/python2.7/plat-mac/lib-scriptpackages', '/Users/Jacob/anaconda/lib/python2.7/lib-tk', '/Users/Jacob/anaconda/lib/python2.7/lib-old', '/Users/Jacob/anaconda/lib/python2.7/lib-dynload', '/Users/Jacob/anaconda/lib/python2.7/site-packages', '/Users/Jacob/anaconda/lib/python2.7/site-packages/PIL', '/Users/Jacob/anaconda/lib/python2.7/site-packages/Sphinx-1.3.1-py2.7.egg', '/Users/Jacob/anaconda/lib/python2.7/site-packages/aeosa', '/Users/Jacob/anaconda/lib/python2.7/site-packages/setuptools-18.0.1-py2.7.egg', '/Users/Jacob/anaconda/lib/python2.7/site-packages/IPython/extensions']\n"
     ]
    }
   ],
   "source": [
    "import sys\n",
    "sys.path.insert(1, \"/Users/Jacob/Documents/Projects/DataInsight/codingChallenge/\")\n",
    "print sys.path\n",
    "import codingChallenge\n",
    "import profile\n",
    "import pstats\n",
    "import os\n"
   ]
  },
  {
   "cell_type": "code",
   "execution_count": 19,
   "metadata": {
    "collapsed": false
   },
   "outputs": [],
   "source": [
    "disp_instance = codingChallenge.dispatcher.Dispatcher(\"/Users/Jacob/Documents/Projects/DataInsight/codingChallenge/benchmark/data/100k_tweets.txt\",\n",
    "                                                     \"/Users/Jacob/Documents/Projects/DataInsight/codingChallenge/benchmark/output/\")"
   ]
  },
  {
   "cell_type": "code",
   "execution_count": 20,
   "metadata": {
    "collapsed": true
   },
   "outputs": [],
   "source": [
    "STATS_DIRECTORY = \"/Users/Jacob/Documents/Projects/DataInsight/codingChallenge/benchmark/stats/\""
   ]
  },
  {
   "cell_type": "code",
   "execution_count": 21,
   "metadata": {
    "collapsed": false
   },
   "outputs": [
    {
     "name": "stdout",
     "output_type": "stream",
     "text": [
      "/Users/Jacob/Documents/Projects/DataInsight/codingChallenge/benchmark/stats/v0.6_100kTweets_median.txt\n"
     ]
    }
   ],
   "source": [
    "output_filename = os.path.join(STATS_DIRECTORY, \"v0.6_100kTweets_median.txt\")\n",
    "print output_filename\n"
   ]
  },
  {
   "cell_type": "code",
   "execution_count": 22,
   "metadata": {
    "collapsed": false
   },
   "outputs": [],
   "source": [
    "# disp_instance.run_UniqueWordsCalculator\n",
    "# disp_instance.run_MedianCalculator()"
   ]
  },
  {
   "cell_type": "code",
   "execution_count": 23,
   "metadata": {
    "collapsed": false
   },
   "outputs": [],
   "source": [
    "profile.run('disp_instance.run_MedianCalculator()', output_filename)"
   ]
  },
  {
   "cell_type": "code",
   "execution_count": 24,
   "metadata": {
    "collapsed": false
   },
   "outputs": [
    {
     "data": {
      "text/plain": [
       "<pstats.Stats instance at 0x107e60ab8>"
      ]
     },
     "execution_count": 24,
     "metadata": {},
     "output_type": "execute_result"
    }
   ],
   "source": [
    "stats = pstats.Stats(output_filename)\n",
    "stats.strip_dirs()\n",
    "stats.sort_stats('tottime')"
   ]
  },
  {
   "cell_type": "code",
   "execution_count": 25,
   "metadata": {
    "collapsed": false
   },
   "outputs": [
    {
     "name": "stdout",
     "output_type": "stream",
     "text": [
      "Fri Jul 10 14:33:07 2015    /Users/Jacob/Documents/Projects/DataInsight/codingChallenge/benchmark/stats/v0.6_100kTweets_median.txt\n",
      "\n",
      "         5500039 function calls (5500038 primitive calls) in 101.736 seconds\n",
      "\n",
      "   Ordered by: internal time\n",
      "\n",
      "   ncalls  tottime  percall  cumtime  percall filename:lineno(function)\n",
      "    99999   52.190    0.001   52.190    0.001 :0(partition)\n",
      "   299997    7.688    0.000    7.688    0.000 :0(concatenate)\n",
      "   899993    3.479    0.000    3.479    0.000 :0(array)\n",
      "   199998    3.469    0.000    3.469    0.000 :0(flatten)\n",
      "   699993    3.465    0.000    6.106    0.000 numeric.py:464(asanyarray)\n",
      "    99999    2.735    0.000    5.900    0.000 arraysetops.py:96(unique)\n",
      "        1    2.669    2.669  100.495  100.495 median_unique.py:64(revised_numpy_calculate_median)\n",
      "    99999    2.434    0.000    6.362    0.000 _methods.py:53(_mean)\n",
      "        1    2.311    2.311    5.967    5.967 npyio.py:1184(genfromtxt)\n",
      "   199998    2.227    0.000   14.556    0.000 function_base.py:3832(append)\n",
      "    99999    2.005    0.000   70.045    0.001 function_base.py:2747(_ureduce)\n",
      "    99999    1.959    0.000   66.900    0.001 function_base.py:2896(_median)\n",
      "   199998    1.444    0.000    3.774    0.000 fromnumeric.py:1291(ravel)\n",
      "   100000    1.132    0.000    1.132    0.000 :0(reduce)\n",
      "    99999    1.121    0.000   57.046    0.001 fromnumeric.py:540(partition)\n",
      "   100001    1.000    0.000    1.744    0.000 _iotools.py:215(_delimited_splitter)\n",
      "   300000    0.968    0.000    0.968    0.000 :0(split)\n",
      "   199998    0.967    0.000    1.723    0.000 numeric.py:394(asarray)\n",
      "    99999    0.835    0.000   70.880    0.001 function_base.py:2807(median)\n",
      "   100007    0.805    0.000    0.805    0.000 :0(len)\n",
      "    99999    0.805    0.000    0.805    0.000 :0(append)\n",
      "    99999    0.766    0.000    7.128    0.000 fromnumeric.py:2651(mean)\n",
      "   200012    0.675    0.000    0.675    0.000 :0(isinstance)\n",
      "    99999    0.672    0.000    1.001    0.000 _methods.py:43(_count_reduce_items)\n",
      "   199998    0.607    0.000    0.607    0.000 :0(ravel)\n",
      "    99999    0.607    0.000    0.607    0.000 :0(sort)\n",
      "        1    0.508    0.508  101.736  101.736 dispatcher.py:43(run_MedianCalculator)\n",
      "    99999    0.418    0.000    0.418    0.000 :0(format)\n",
      "    99999    0.338    0.000    0.338    0.000 :0(get)\n",
      "   100009    0.315    0.000    0.315    0.000 :0(issubclass)\n",
      "   100001    0.288    0.000    0.288    0.000 :0(hasattr)\n",
      "    99999    0.278    0.000    0.278    0.000 :0(write)\n",
      "    99999    0.255    0.000    0.255    0.000 _iotools.py:666(_loose_call)\n",
      "   100001    0.244    0.000    0.244    0.000 :0(strip)\n",
      "        1    0.037    0.037  100.532  100.532 median_unique.py:78(run)\n",
      "        3    0.018    0.006    0.018    0.006 :0(zip)\n",
      "        1    0.000    0.000    0.000    0.000 :0(next)\n",
      "        2    0.000    0.000    0.000    0.000 :0(open)\n",
      "        1    0.000    0.000    0.000    0.000 :0(setprofile)\n",
      "        1    0.000    0.000    0.000    0.000 _iotools.py:589(__init__)\n",
      "        1    0.000    0.000  101.736  101.736 profile:0(disp_instance.run_MedianCalculator())\n",
      "        5    0.000    0.000    0.000    0.000 numerictypes.py:736(issubdtype)\n",
      "        1    0.000    0.000  101.736  101.736 <string>:1(<module>)\n",
      "        5    0.000    0.000    0.000    0.000 numerictypes.py:668(issubclass_)\n",
      "        2    0.000    0.000    0.000    0.000 :0(range)\n",
      "        1    0.000    0.000    0.000    0.000 _iotools.py:189(__init__)\n",
      "        1    0.000    0.000    0.000    0.000 median_unique.py:9(__init__)\n",
      "        2    0.000    0.000    0.000    0.000 :0(empty)\n",
      "        1    0.000    0.000    0.000    0.000 fromnumeric.py:2259(prod)\n",
      "        1    0.000    0.000    0.000    0.000 :0(iter)\n",
      "      2/1    0.000    0.000    0.000    0.000 py3k.py:79(asbytes_nested)\n",
      "        1    0.000    0.000    0.000    0.000 posixpath.py:68(join)\n",
      "        1    0.000    0.000    0.000    0.000 _iotools.py:112(flatten_dtype)\n",
      "        1    0.000    0.000    0.000    0.000 _iotools.py:304(__init__)\n",
      "        1    0.000    0.000    0.000    0.000 :0(squeeze)\n",
      "        1    0.000    0.000    0.000    0.000 _iotools.py:30(_is_string_like)\n",
      "        1    0.000    0.000    0.000    0.000 :0(mro)\n",
      "        1    0.000    0.000    0.000    0.000 _iotools.py:816(easy_dtype)\n",
      "        1    0.000    0.000    0.000    0.000 :0(update)\n",
      "        1    0.000    0.000    0.000    0.000 _iotools.py:539(_dtypeortype)\n",
      "        1    0.000    0.000    0.000    0.000 :0(items)\n",
      "        1    0.000    0.000    0.000    0.000 _methods.py:34(_prod)\n",
      "        1    0.000    0.000    0.000    0.000 _iotools.py:40(_is_bytes_like)\n",
      "        1    0.000    0.000    0.000    0.000 :0(startswith)\n",
      "        1    0.000    0.000    0.000    0.000 :0(extend)\n",
      "        1    0.000    0.000    0.000    0.000 :0(add)\n",
      "        1    0.000    0.000    0.000    0.000 :0(endswith)\n",
      "        0    0.000             0.000          profile:0(profiler)\n",
      "\n",
      "\n"
     ]
    },
    {
     "data": {
      "text/plain": [
       "<pstats.Stats instance at 0x107e60ab8>"
      ]
     },
     "execution_count": 25,
     "metadata": {},
     "output_type": "execute_result"
    }
   ],
   "source": [
    "stats.print_stats()"
   ]
  },
  {
   "cell_type": "code",
   "execution_count": 2,
   "metadata": {
    "collapsed": false
   },
   "outputs": [
    {
     "data": {
      "text/plain": [
       "['__class__',\n",
       " '__delattr__',\n",
       " '__dict__',\n",
       " '__doc__',\n",
       " '__format__',\n",
       " '__getattribute__',\n",
       " '__hash__',\n",
       " '__init__',\n",
       " '__module__',\n",
       " '__new__',\n",
       " '__reduce__',\n",
       " '__reduce_ex__',\n",
       " '__repr__',\n",
       " '__setattr__',\n",
       " '__sizeof__',\n",
       " '__str__',\n",
       " '__subclasshook__',\n",
       " '__weakref__',\n",
       " 'count_unique',\n",
       " 'counter_on_all_words',\n",
       " 'numpy_count_unique',\n",
       " 'run']"
      ]
     },
     "execution_count": 2,
     "metadata": {},
     "output_type": "execute_result"
    }
   ],
   "source": [
    "dir(codingChallenge.MedianCalculator)"
   ]
  },
  {
   "cell_type": "code",
   "execution_count": 4,
   "metadata": {
    "collapsed": false
   },
   "outputs": [
    {
     "name": "stdout",
     "output_type": "stream",
     "text": [
      "RAW\n",
      "================================================================================\n",
      "         57356 function calls (66 primitive calls) in 0.294 seconds\n",
      "\n",
      "   Ordered by: standard name\n",
      "\n",
      "   ncalls  tottime  percall  cumtime  percall filename:lineno(function)\n",
      "       21    0.000    0.000    0.000    0.000 :0(append)\n",
      "       20    0.000    0.000    0.000    0.000 :0(extend)\n",
      "        1    0.000    0.000    0.000    0.000 :0(setprofile)\n",
      " 57291/21    0.293    0.000    0.293    0.014 <ipython-input-4-eddc1a1ee2b2>:1(fib)\n",
      "     21/1    0.001    0.000    0.294    0.294 <ipython-input-4-eddc1a1ee2b2>:10(fib_seq)\n",
      "        1    0.000    0.000    0.294    0.294 <string>:1(<module>)\n",
      "        1    0.000    0.000    0.294    0.294 profile:0(fib_seq(20))\n",
      "        0    0.000             0.000          profile:0(profiler)\n",
      "\n",
      "\n"
     ]
    }
   ],
   "source": [
    "def fib(n):\n",
    "    # from http://en.literateprograms.org/Fibonacci_numbers_(Python)\n",
    "    if n == 0:\n",
    "        return 0\n",
    "    elif n == 1:\n",
    "        return 1\n",
    "    else:\n",
    "        return fib(n-1) + fib(n-2)\n",
    "\n",
    "def fib_seq(n):\n",
    "    seq = [ ]\n",
    "    if n > 0:\n",
    "        seq.extend(fib_seq(n-1))\n",
    "    seq.append(fib(n))\n",
    "    return seq\n",
    "\n",
    "print 'RAW'\n",
    "print '=' * 80\n",
    "profile.run('fib_seq(20)')"
   ]
  },
  {
   "cell_type": "code",
   "execution_count": null,
   "metadata": {
    "collapsed": true
   },
   "outputs": [],
   "source": []
  }
 ],
 "metadata": {
  "kernelspec": {
   "display_name": "Python 2",
   "language": "python",
   "name": "python2"
  },
  "language_info": {
   "codemirror_mode": {
    "name": "ipython",
    "version": 2
   },
   "file_extension": ".py",
   "mimetype": "text/x-python",
   "name": "python",
   "nbconvert_exporter": "python",
   "pygments_lexer": "ipython2",
   "version": "2.7.9"
  }
 },
 "nbformat": 4,
 "nbformat_minor": 0
}
