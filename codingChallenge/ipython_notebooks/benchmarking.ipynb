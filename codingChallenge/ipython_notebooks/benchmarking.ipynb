{
 "cells": [
  {
   "cell_type": "code",
   "execution_count": 5,
   "metadata": {
    "collapsed": true
   },
   "outputs": [],
   "source": [
    "import sys\n",
    "sys.path.insert(1, \"/Users/Jacob/Documents/Projects/DataInsight/codingChallenge/\")\n",
    "print sys.path\n",
    "import codingChallenge\n",
    "import profile\n",
    "import pstats\n",
    "import os\n"
   ]
  },
  {
   "cell_type": "code",
   "execution_count": 7,
   "metadata": {
    "collapsed": false
   },
   "outputs": [
    {
     "name": "stdout",
     "output_type": "stream",
     "text": [
      "['', '/Users/Jacob/Documents/Projects/DataInsight/codingChallenge/', '/Users/Jacob/anaconda/lib/python2.7/site-packages/taxcalc-0.4.5-py2.7.egg', '/Users/Jacob/anaconda/lib/python2.7/site-packages/codingChallenge-0.0.1-py2.7.egg', '/Users/Jacob/anaconda/lib/python27.zip', '/Users/Jacob/anaconda/lib/python2.7', '/Users/Jacob/anaconda/lib/python2.7/plat-darwin', '/Users/Jacob/anaconda/lib/python2.7/plat-mac', '/Users/Jacob/anaconda/lib/python2.7/plat-mac/lib-scriptpackages', '/Users/Jacob/anaconda/lib/python2.7/lib-tk', '/Users/Jacob/anaconda/lib/python2.7/lib-old', '/Users/Jacob/anaconda/lib/python2.7/lib-dynload', '/Users/Jacob/anaconda/lib/python2.7/site-packages', '/Users/Jacob/anaconda/lib/python2.7/site-packages/PIL', '/Users/Jacob/anaconda/lib/python2.7/site-packages/Sphinx-1.3.1-py2.7.egg', '/Users/Jacob/anaconda/lib/python2.7/site-packages/aeosa', '/Users/Jacob/anaconda/lib/python2.7/site-packages/setuptools-18.0.1-py2.7.egg', '/Users/Jacob/anaconda/lib/python2.7/site-packages/IPython/extensions']\n"
     ]
    }
   ],
   "source": []
  },
  {
   "cell_type": "code",
   "execution_count": 2,
   "metadata": {
    "collapsed": false
   },
   "outputs": [],
   "source": [
    "disp_instance = codingChallenge.dispatcher.Dispatcher(\"/Users/Jacob/Documents/Projects/DataInsight/codingChallenge/benchmark/data/5k_tweets.txt\",\n",
    "                                                     \"/Users/Jacob/Documents/Projects/DataInsight/codingChallenge/benchmark/output/\")"
   ]
  },
  {
   "cell_type": "code",
   "execution_count": 3,
   "metadata": {
    "collapsed": true
   },
   "outputs": [],
   "source": [
    "STATS_DIRECTORY = \"/Users/Jacob/Documents/Projects/DataInsight/codingChallenge/benchmark/stats/\""
   ]
  },
  {
   "cell_type": "code",
   "execution_count": 4,
   "metadata": {
    "collapsed": false
   },
   "outputs": [
    {
     "name": "stdout",
     "output_type": "stream",
     "text": [
      "/Users/Jacob/Documents/Projects/DataInsight/codingChallenge/benchmark/stats/v0.4_5kTweets_unique.txt\n"
     ]
    }
   ],
   "source": [
    "output_filename = os.path.join(STATS_DIRECTORY, \"v0.4_5kTweets_unique.txt\")\n",
    "print output_filename\n"
   ]
  },
  {
   "cell_type": "code",
   "execution_count": 5,
   "metadata": {
    "collapsed": false
   },
   "outputs": [],
   "source": [
    "# disp_instance.run_UniqueWordsCalculator()"
   ]
  },
  {
   "cell_type": "code",
   "execution_count": 6,
   "metadata": {
    "collapsed": false
   },
   "outputs": [],
   "source": [
    "profile.run('disp_instance.run_UniqueWordsCalculator()', output_filename)"
   ]
  },
  {
   "cell_type": "code",
   "execution_count": 7,
   "metadata": {
    "collapsed": false
   },
   "outputs": [
    {
     "data": {
      "text/plain": [
       "<pstats.Stats instance at 0x106e3acb0>"
      ]
     },
     "execution_count": 7,
     "metadata": {},
     "output_type": "execute_result"
    }
   ],
   "source": [
    "stats = pstats.Stats(output_filename)\n",
    "stats.strip_dirs()\n",
    "stats.sort_stats('cumulative')"
   ]
  },
  {
   "cell_type": "code",
   "execution_count": 8,
   "metadata": {
    "collapsed": false
   },
   "outputs": [
    {
     "name": "stdout",
     "output_type": "stream",
     "text": [
      "Thu Jul  9 19:38:51 2015    /Users/Jacob/Documents/Projects/DataInsight/codingChallenge/benchmark/stats/v0.4_5kTweets_unique.txt\n",
      "\n",
      "         46347080 function calls (46347075 primitive calls) in 276.921 seconds\n",
      "\n",
      "   Ordered by: cumulative time\n",
      "\n",
      "   ncalls  tottime  percall  cumtime  percall filename:lineno(function)\n",
      "        1    0.000    0.000  276.921  276.921 profile:0(disp_instance.run_UniqueWordsCalculator())\n",
      "        1    0.001    0.001  276.921  276.921 <string>:1(<module>)\n",
      "        1    0.042    0.042  276.920  276.920 dispatcher.py:24(run_UniqueWordsCalculator)\n",
      "        1    0.882    0.882  276.735  276.735 unique_words.py:15(count_unique)\n",
      "     5000  165.794    0.033  274.956    0.055 collections.py:593(__add__)\n",
      " 46147639  101.886    0.000  101.886    0.000 collections.py:455(__missing__)\n",
      "    10002    7.214    0.001    7.214    0.001 :0(items)\n",
      "    10001    0.087    0.000    0.707    0.000 collections.py:441(__init__)\n",
      "    10001    0.271    0.000    0.620    0.000 collections.py:504(update)\n",
      "    10001    0.052    0.000    0.189    0.000 :0(isinstance)\n",
      "    70573    0.174    0.000    0.174    0.000 :0(get)\n",
      "        1    0.000    0.000    0.145    0.145 collections.py:38(__init__)\n",
      "        1    0.059    0.059    0.145    0.145 _abcoll.py:545(update)\n",
      "     5001    0.079    0.000    0.137    0.000 abc.py:128(__instancecheck__)\n",
      "        1    0.046    0.046    0.086    0.086 collections.py:108(items)\n",
      "    16256    0.086    0.000    0.086    0.000 collections.py:54(__setitem__)\n",
      "    16255    0.057    0.000    0.057    0.000 :0(writerow)\n",
      "     5000    0.035    0.000    0.050    0.000 utils.py:6(clean_tweet)\n",
      "    10006    0.042    0.000    0.042    0.000 _weakrefset.py:70(__contains__)\n",
      "    16256    0.040    0.000    0.040    0.000 collections.py:73(__iter__)\n",
      "     5000    0.033    0.000    0.033    0.000 :0(split)\n",
      "     5005    0.016    0.000    0.016    0.000 :0(getattr)\n",
      "     5000    0.015    0.000    0.015    0.000 :0(rstrip)\n",
      "        1    0.010    0.010    0.010    0.010 :0(sorted)\n",
      "      4/2    0.000    0.000    0.001    0.000 abc.py:148(__subclasscheck__)\n",
      "      6/3    0.000    0.000    0.000    0.000 :0(issubclass)\n",
      "        1    0.000    0.000    0.000    0.000 :0(setprofile)\n",
      "        2    0.000    0.000    0.000    0.000 :0(open)\n",
      "        8    0.000    0.000    0.000    0.000 _weakrefset.py:58(__iter__)\n",
      "        4    0.000    0.000    0.000    0.000 _weakrefset.py:26(__exit__)\n",
      "        4    0.000    0.000    0.000    0.000 _weakrefset.py:20(__enter__)\n",
      "        4    0.000    0.000    0.000    0.000 _weakrefset.py:83(add)\n",
      "        2    0.000    0.000    0.000    0.000 collections.py:132(pop)\n",
      "        3    0.000    0.000    0.000    0.000 _weakrefset.py:36(__init__)\n",
      "        1    0.000    0.000    0.000    0.000 posixpath.py:68(join)\n",
      "        8    0.000    0.000    0.000    0.000 :0(add)\n",
      "        4    0.000    0.000    0.000    0.000 _weakrefset.py:16(__init__)\n",
      "        4    0.000    0.000    0.000    0.000 _weakrefset.py:52(_commit_removals)\n",
      "        4    0.000    0.000    0.000    0.000 _abcoll.py:98(__subclasshook__)\n",
      "        1    0.000    0.000    0.000    0.000 collections.py:64(__delitem__)\n",
      "        3    0.000    0.000    0.000    0.000 :0(__subclasses__)\n",
      "        4    0.000    0.000    0.000    0.000 :0(remove)\n",
      "        1    0.000    0.000    0.000    0.000 :0(writer)\n",
      "        3    0.000    0.000    0.000    0.000 :0(len)\n",
      "        1    0.000    0.000    0.000    0.000 :0(endswith)\n",
      "        1    0.000    0.000    0.000    0.000 :0(startswith)\n",
      "        1    0.000    0.000    0.000    0.000 unique_words.py:12(__init__)\n",
      "        1    0.000    0.000    0.000    0.000 :0(hasattr)\n",
      "        1    0.000    0.000    0.000    0.000 :0(pop)\n",
      "        0    0.000             0.000          profile:0(profiler)\n",
      "\n",
      "\n"
     ]
    },
    {
     "data": {
      "text/plain": [
       "<pstats.Stats instance at 0x106e3acb0>"
      ]
     },
     "execution_count": 8,
     "metadata": {},
     "output_type": "execute_result"
    }
   ],
   "source": [
    "stats.print_stats()"
   ]
  },
  {
   "cell_type": "code",
   "execution_count": 3,
   "metadata": {
    "collapsed": false
   },
   "outputs": [
    {
     "data": {
      "text/plain": [
       "['__class__',\n",
       " '__delattr__',\n",
       " '__dict__',\n",
       " '__doc__',\n",
       " '__format__',\n",
       " '__getattribute__',\n",
       " '__hash__',\n",
       " '__init__',\n",
       " '__module__',\n",
       " '__new__',\n",
       " '__reduce__',\n",
       " '__reduce_ex__',\n",
       " '__repr__',\n",
       " '__setattr__',\n",
       " '__sizeof__',\n",
       " '__str__',\n",
       " '__subclasshook__',\n",
       " '__weakref__',\n",
       " 'count_unique']"
      ]
     },
     "execution_count": 3,
     "metadata": {},
     "output_type": "execute_result"
    }
   ],
   "source": [
    "dir(codingChallenge.dispatcher.UniqueWordsCalculator)"
   ]
  },
  {
   "cell_type": "code",
   "execution_count": 4,
   "metadata": {
    "collapsed": false
   },
   "outputs": [
    {
     "name": "stdout",
     "output_type": "stream",
     "text": [
      "RAW\n",
      "================================================================================\n",
      "         57356 function calls (66 primitive calls) in 0.294 seconds\n",
      "\n",
      "   Ordered by: standard name\n",
      "\n",
      "   ncalls  tottime  percall  cumtime  percall filename:lineno(function)\n",
      "       21    0.000    0.000    0.000    0.000 :0(append)\n",
      "       20    0.000    0.000    0.000    0.000 :0(extend)\n",
      "        1    0.000    0.000    0.000    0.000 :0(setprofile)\n",
      " 57291/21    0.293    0.000    0.293    0.014 <ipython-input-4-eddc1a1ee2b2>:1(fib)\n",
      "     21/1    0.001    0.000    0.294    0.294 <ipython-input-4-eddc1a1ee2b2>:10(fib_seq)\n",
      "        1    0.000    0.000    0.294    0.294 <string>:1(<module>)\n",
      "        1    0.000    0.000    0.294    0.294 profile:0(fib_seq(20))\n",
      "        0    0.000             0.000          profile:0(profiler)\n",
      "\n",
      "\n"
     ]
    }
   ],
   "source": [
    "def fib(n):\n",
    "    # from http://en.literateprograms.org/Fibonacci_numbers_(Python)\n",
    "    if n == 0:\n",
    "        return 0\n",
    "    elif n == 1:\n",
    "        return 1\n",
    "    else:\n",
    "        return fib(n-1) + fib(n-2)\n",
    "\n",
    "def fib_seq(n):\n",
    "    seq = [ ]\n",
    "    if n > 0:\n",
    "        seq.extend(fib_seq(n-1))\n",
    "    seq.append(fib(n))\n",
    "    return seq\n",
    "\n",
    "print 'RAW'\n",
    "print '=' * 80\n",
    "profile.run('fib_seq(20)')"
   ]
  },
  {
   "cell_type": "code",
   "execution_count": null,
   "metadata": {
    "collapsed": true
   },
   "outputs": [],
   "source": []
  }
 ],
 "metadata": {
  "kernelspec": {
   "display_name": "Python 2",
   "language": "python",
   "name": "python2"
  },
  "language_info": {
   "codemirror_mode": {
    "name": "ipython",
    "version": 2
   },
   "file_extension": ".py",
   "mimetype": "text/x-python",
   "name": "python",
   "nbconvert_exporter": "python",
   "pygments_lexer": "ipython2",
   "version": "2.7.9"
  }
 },
 "nbformat": 4,
 "nbformat_minor": 0
}
