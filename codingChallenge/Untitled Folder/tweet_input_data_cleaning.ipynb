{
 "cells": [
  {
   "cell_type": "code",
   "execution_count": 34,
   "metadata": {
    "collapsed": true
   },
   "outputs": [],
   "source": [
    "import pandas as pd\n",
    "import csv"
   ]
  },
  {
   "cell_type": "code",
   "execution_count": 13,
   "metadata": {
    "collapsed": false
   },
   "outputs": [],
   "source": [
    "df = pd.read_csv(\"/Users/Jacob/Downloads/trainingandtestdata/training.1600000.processed.noemoticon.csv\", \n",
    "            header=None, \n",
    "            names=[\"polarity\", \"id\", \"date\", \"query\", \"user\", \"body\"],\n",
    "            parse_dates=[2])"
   ]
  },
  {
   "cell_type": "code",
   "execution_count": 46,
   "metadata": {
    "collapsed": false
   },
   "outputs": [],
   "source": [
    "df[[\"body\"]].to_csv(\"/Users/Jacob/Documents/Projects/DataInsight/codingChallenge/benchmark/data/all_tweets.txt\",\n",
    "                   index=False,\n",
    "                    header=False,\n",
    "                    quotechar='\\'',\n",
    "                    double_quote=False,)"
   ]
  },
  {
   "cell_type": "code",
   "execution_count": 53,
   "metadata": {
    "collapsed": false
   },
   "outputs": [],
   "source": [
    "with open(\"/Users/Jacob/Documents/Projects/DataInsight/codingChallenge/benchmark/data/100k_tweets.txt\", \n",
    "          'w') as write_file:\n",
    "    for x in df[\"body\"][:100000]:\n",
    "        write_file.write(str(x) + \"\\n\")"
   ]
  },
  {
   "cell_type": "code",
   "execution_count": null,
   "metadata": {
    "collapsed": true
   },
   "outputs": [],
   "source": []
  },
  {
   "cell_type": "code",
   "execution_count": null,
   "metadata": {
    "collapsed": true
   },
   "outputs": [],
   "source": []
  },
  {
   "cell_type": "code",
   "execution_count": null,
   "metadata": {
    "collapsed": true
   },
   "outputs": [],
   "source": []
  }
 ],
 "metadata": {
  "kernelspec": {
   "display_name": "Python 2",
   "language": "python",
   "name": "python2"
  },
  "language_info": {
   "codemirror_mode": {
    "name": "ipython",
    "version": 2
   },
   "file_extension": ".py",
   "mimetype": "text/x-python",
   "name": "python",
   "nbconvert_exporter": "python",
   "pygments_lexer": "ipython2",
   "version": "2.7.9"
  }
 },
 "nbformat": 4,
 "nbformat_minor": 0
}
