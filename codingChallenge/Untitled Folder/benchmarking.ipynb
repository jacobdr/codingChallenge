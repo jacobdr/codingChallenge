{
 "cells": [
  {
   "cell_type": "code",
   "execution_count": 2,
   "metadata": {
    "collapsed": true
   },
   "outputs": [],
   "source": [
    "import codingChallenge\n",
    "import profile\n",
    "import pstats\n",
    "import os"
   ]
  },
  {
   "cell_type": "code",
   "execution_count": 3,
   "metadata": {
    "collapsed": true
   },
   "outputs": [],
   "source": [
    "disp_instance = codingChallenge.dispatcher.Dispatcher(\"/Users/Jacob/Documents/Projects/DataInsight/codingChallenge/benchmark/data/10k_tweets.txt\",\n",
    "                                                     \"/Users/Jacob/Documents/Projects/DataInsight/codingChallenge/benchmark/output/\")"
   ]
  },
  {
   "cell_type": "code",
   "execution_count": 4,
   "metadata": {
    "collapsed": true
   },
   "outputs": [],
   "source": [
    "STATS_DIRECTORY = \"/Users/Jacob/Documents/Projects/DataInsight/codingChallenge/benchmark/stats/\""
   ]
  },
  {
   "cell_type": "code",
   "execution_count": 12,
   "metadata": {
    "collapsed": false
   },
   "outputs": [
    {
     "name": "stdout",
     "output_type": "stream",
     "text": [
      "/Users/Jacob/Documents/Projects/DataInsight/codingChallenge/benchmark/stats/v0.2_10kTweets_unique.txt\n"
     ]
    }
   ],
   "source": [
    "output_filename = os.path.join(STATS_DIRECTORY, \"v0.2_10kTweets_unique.txt\")\n",
    "print output_filename"
   ]
  },
  {
   "cell_type": "code",
   "execution_count": 13,
   "metadata": {
    "collapsed": false
   },
   "outputs": [],
   "source": [
    "# disp_instance.run_UniqueWordsCalculator()"
   ]
  },
  {
   "cell_type": "code",
   "execution_count": null,
   "metadata": {
    "collapsed": false
   },
   "outputs": [],
   "source": [
    "profile.run('disp_instance.run_UniqueWordsCalculator()', output_filename)"
   ]
  },
  {
   "cell_type": "code",
   "execution_count": 10,
   "metadata": {
    "collapsed": false
   },
   "outputs": [
    {
     "data": {
      "text/plain": [
       "<pstats.Stats instance at 0x10646c0e0>"
      ]
     },
     "execution_count": 10,
     "metadata": {},
     "output_type": "execute_result"
    }
   ],
   "source": [
    "stats = pstats.Stats(output_filename)\n",
    "stats.strip_dirs()\n",
    "stats.sort_stats('cumulative')"
   ]
  },
  {
   "cell_type": "code",
   "execution_count": 11,
   "metadata": {
    "collapsed": false
   },
   "outputs": [
    {
     "name": "stdout",
     "output_type": "stream",
     "text": [
      "Thu Jul  9 12:29:22 2015    /Users/Jacob/Documents/Projects/DataInsight/codingChallenge/benchmark/stats/v0.2_10kTweets_median.txt\n",
      "\n",
      "         110011 function calls in 1.643 seconds\n",
      "\n",
      "   Ordered by: cumulative time\n",
      "\n",
      "   ncalls  tottime  percall  cumtime  percall filename:lineno(function)\n",
      "        1    0.000    0.000    1.643    1.643 profile:0(disp_instance.run_MedianCalculator())\n",
      "        1    0.000    0.000    1.643    1.643 <string>:1(<module>)\n",
      "        1    0.030    0.030    1.643    1.643 dispatcher.py:34(run_MedianCalculator)\n",
      "        1    0.120    0.120    1.587    1.587 median_unique.py:29(populate_median_list)\n",
      "    10000    0.233    0.000    1.309    0.000 median_unique.py:24(append_to_unique_word_list)\n",
      "    10000    0.999    0.000    0.999    0.000 :0(sorted)\n",
      "    10000    0.044    0.000    0.065    0.000 utils.py:6(clean_tweet)\n",
      "     5000    0.026    0.000    0.048    0.000 median_unique.py:20(format_to_two_decimal)\n",
      "    20000    0.045    0.000    0.045    0.000 :0(len)\n",
      "    20000    0.043    0.000    0.043    0.000 :0(append)\n",
      "    10000    0.035    0.000    0.035    0.000 :0(split)\n",
      "    10000    0.026    0.000    0.026    0.000 :0(write)\n",
      "     5000    0.022    0.000    0.022    0.000 :0(format)\n",
      "    10000    0.021    0.000    0.021    0.000 :0(rstrip)\n",
      "        2    0.000    0.000    0.000    0.000 :0(open)\n",
      "        1    0.000    0.000    0.000    0.000 :0(setprofile)\n",
      "        1    0.000    0.000    0.000    0.000 posixpath.py:68(join)\n",
      "        1    0.000    0.000    0.000    0.000 median_unique.py:9(__init__)\n",
      "        1    0.000    0.000    0.000    0.000 :0(startswith)\n",
      "        1    0.000    0.000    0.000    0.000 :0(endswith)\n",
      "        0    0.000             0.000          profile:0(profiler)\n",
      "\n",
      "\n"
     ]
    },
    {
     "data": {
      "text/plain": [
       "<pstats.Stats instance at 0x10646c0e0>"
      ]
     },
     "execution_count": 11,
     "metadata": {},
     "output_type": "execute_result"
    }
   ],
   "source": [
    "stats.print_stats()"
   ]
  },
  {
   "cell_type": "code",
   "execution_count": null,
   "metadata": {
    "collapsed": true
   },
   "outputs": [],
   "source": []
  },
  {
   "cell_type": "code",
   "execution_count": 4,
   "metadata": {
    "collapsed": false
   },
   "outputs": [
    {
     "name": "stdout",
     "output_type": "stream",
     "text": [
      "RAW\n",
      "================================================================================\n",
      "         57356 function calls (66 primitive calls) in 0.294 seconds\n",
      "\n",
      "   Ordered by: standard name\n",
      "\n",
      "   ncalls  tottime  percall  cumtime  percall filename:lineno(function)\n",
      "       21    0.000    0.000    0.000    0.000 :0(append)\n",
      "       20    0.000    0.000    0.000    0.000 :0(extend)\n",
      "        1    0.000    0.000    0.000    0.000 :0(setprofile)\n",
      " 57291/21    0.293    0.000    0.293    0.014 <ipython-input-4-eddc1a1ee2b2>:1(fib)\n",
      "     21/1    0.001    0.000    0.294    0.294 <ipython-input-4-eddc1a1ee2b2>:10(fib_seq)\n",
      "        1    0.000    0.000    0.294    0.294 <string>:1(<module>)\n",
      "        1    0.000    0.000    0.294    0.294 profile:0(fib_seq(20))\n",
      "        0    0.000             0.000          profile:0(profiler)\n",
      "\n",
      "\n"
     ]
    }
   ],
   "source": [
    "def fib(n):\n",
    "    # from http://en.literateprograms.org/Fibonacci_numbers_(Python)\n",
    "    if n == 0:\n",
    "        return 0\n",
    "    elif n == 1:\n",
    "        return 1\n",
    "    else:\n",
    "        return fib(n-1) + fib(n-2)\n",
    "\n",
    "def fib_seq(n):\n",
    "    seq = [ ]\n",
    "    if n > 0:\n",
    "        seq.extend(fib_seq(n-1))\n",
    "    seq.append(fib(n))\n",
    "    return seq\n",
    "\n",
    "print 'RAW'\n",
    "print '=' * 80\n",
    "profile.run('fib_seq(20)')"
   ]
  },
  {
   "cell_type": "code",
   "execution_count": null,
   "metadata": {
    "collapsed": true
   },
   "outputs": [],
   "source": []
  }
 ],
 "metadata": {
  "kernelspec": {
   "display_name": "Python 2",
   "language": "python",
   "name": "python2"
  },
  "language_info": {
   "codemirror_mode": {
    "name": "ipython",
    "version": 2
   },
   "file_extension": ".py",
   "mimetype": "text/x-python",
   "name": "python",
   "nbconvert_exporter": "python",
   "pygments_lexer": "ipython2",
   "version": "2.7.9"
  }
 },
 "nbformat": 4,
 "nbformat_minor": 0
}
