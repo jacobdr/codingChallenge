{
 "cells": [
  {
   "cell_type": "code",
   "execution_count": 1,
   "metadata": {
    "collapsed": false
   },
   "outputs": [],
   "source": [
    "import os\n",
    "import csv\n",
    "from codingChallenge import UniqueWordsCalculator, MedianCalculator, constants\n",
    "\n"
   ]
  },
  {
   "cell_type": "code",
   "execution_count": 2,
   "metadata": {
    "collapsed": true
   },
   "outputs": [],
   "source": [
    "tmp_path = \"/Users/Jacob/Documents/Projects/DataInsight/codingChallenge/codingChallenge/tests/fixtures/tmp\""
   ]
  },
  {
   "cell_type": "code",
   "execution_count": 3,
   "metadata": {
    "collapsed": true
   },
   "outputs": [],
   "source": [
    "\n",
    "class Dispatcher(object):\n",
    "    \"\"\"\n",
    "    This class is meant to coordinate the actions of the other two classes\n",
    "    \"\"\"\n",
    "    def __init__(self, path_to_input_tweet_file, path_to_output_directory):\n",
    "        # Convert input file path to absolute as a sanity check\n",
    "        if os.path.isabs(path_to_input_tweet_file):\n",
    "            self.input_file_path = path_to_input_tweet_file\n",
    "        else:\n",
    "            self.input_file_path = os.path.abspath(path_to_input_tweet_file)\n",
    "        \n",
    "        # Convert output file path to absolute as a sanity check\n",
    "        if os.path.isabs(path_to_output_directory):\n",
    "            self.output_file_directory = path_to_output_directory\n",
    "        else:\n",
    "            self.output_file_directory = os.path.abspath(path_to_output_directory)\n",
    "        \n",
    "    def run_UniqueWordsCalculator(self):\n",
    "        ft1_file_path = os.path.join(self.output_file_directory, \"ft1.txt\")\n",
    "        with open(self.input_file_path, 'r') as tweet_file:\n",
    "            with open(ft1_file_path, 'w') as ft1_output:\n",
    "                words_writer = csv.writer(ft1_output, delimiter=' ')\n",
    "                list_of_unique_words = UniqueWordsCalculator(tweet_file).count_unique().items()\n",
    "                print list_of_unique_words\n",
    "                for word in list_of_unique_words:\n",
    "                    words_writer.writerow(word)\n",
    "\n",
    "    \n",
    "    \n",
    "    def run_jobs(self):\n",
    "        pass\n",
    "\n"
   ]
  },
  {
   "cell_type": "code",
   "execution_count": 4,
   "metadata": {
    "collapsed": false
   },
   "outputs": [],
   "source": [
    "z = Dispatcher(\"/Users/Jacob/Documents/Projects/DataInsight/codingChallenge/codingChallenge/tests/fixtures/tweet_input/tweets.txt\",\n",
    "              tmp_path)"
   ]
  },
  {
   "cell_type": "code",
   "execution_count": 5,
   "metadata": {
    "collapsed": false
   },
   "outputs": [
    {
     "name": "stdout",
     "output_type": "stream",
     "text": [
      "[('#analytics\\n', 1), ('#bigdata', 3), ('#kdn', 1), ('#smb\\n', 1), ('@cxotodayalerts', 1), ('@lavanyarathnam', 1), ('and', 1), ('answer', 1), ('astrazeneca', 1), ('being', 1), ('big', 2), ('business.', 1), ('businesses:', 1), ('data', 1), ('deployed', 1), ('effective', 1), ('end', 1), ('finally', 1), ('for', 2), ('healthcare', 1), ('how', 1), ('http://bddy.me/1bzukb3', 1), ('http://ow.ly/o8gt3', 1), ('http://ow.ly/ot2uj\\n', 1), ('interview:', 1), ('is', 3), ('just', 1), ('not', 1), ('of', 1), ('on', 2), ('poverty?', 1), ('promise', 1), ('small', 1), ('the', 2), ('to', 1), ('wang,', 1), ('xia', 1)]\n"
     ]
    }
   ],
   "source": [
    "x = z.run_UniqueWordsCalculator()"
   ]
  },
  {
   "cell_type": "code",
   "execution_count": 26,
   "metadata": {
    "collapsed": false
   },
   "outputs": [],
   "source": [
    "from collections import OrderedDict\n",
    "from operator import itemgetter\n",
    "def insight_github_unique_word_results():\n",
    "    \"\"\"\n",
    "    Test fixture that represents the alphabetized count of words from Tweets\n",
    "    taken from the Insight Github page\n",
    "    \"\"\"\n",
    "    counter_container = OrderedDict()\n",
    "\n",
    "    path_to_input_file = os.path.join(constants.TEST_DIRECTORY,\n",
    "                                      \"fixtures/ft1_expected_results_v1.txt\")\n",
    "    with open(path_to_input_file, 'r') as input_file:\n",
    "        for line in input_file:\n",
    "            word, count = line.split()\n",
    "            counter_container[word] = int(count)\n",
    "    return counter_container"
   ]
  },
  {
   "cell_type": "code",
   "execution_count": 27,
   "metadata": {
    "collapsed": false
   },
   "outputs": [],
   "source": [
    "a = insight_github_unique_word_results()"
   ]
  },
  {
   "cell_type": "code",
   "execution_count": 28,
   "metadata": {
    "collapsed": false
   },
   "outputs": [
    {
     "data": {
      "text/plain": [
       "OrderedDict([('#analytics', 1), ('#bigdata', 3), ('#kdn', 1), ('#smb', 1), ('@cxotodayalerts', 1), ('@lavanyarathnam', 1), ('and', 1), ('answer', 1), ('astrazeneca', 1), ('being', 1), ('big', 2), ('business.', 1), ('businesses:', 1), ('data', 1), ('deployed', 1), ('effective', 1), ('end', 1), ('finally', 1), ('for', 2), ('healthcare', 1), ('how', 1), ('http://bddy.me/1bzukb3', 1), ('http://ow.ly/o8gt3', 1), ('http://ow.ly/ot2uj', 1), ('interview:', 1), ('is', 3), ('just', 1), ('not', 1), ('of', 1), ('on', 2), ('poverty?', 1), ('promise', 1), ('small', 1), ('the', 2), ('to', 1), ('wang,', 1), ('xia', 1)])"
      ]
     },
     "execution_count": 28,
     "metadata": {},
     "output_type": "execute_result"
    }
   ],
   "source": [
    "a"
   ]
  },
  {
   "cell_type": "code",
   "execution_count": 32,
   "metadata": {
    "collapsed": false
   },
   "outputs": [],
   "source": [
    "b = OrderedDict(sorted(a.items(), key=itemgetter(0), reverse=True))"
   ]
  },
  {
   "cell_type": "code",
   "execution_count": 34,
   "metadata": {
    "collapsed": false
   },
   "outputs": [
    {
     "data": {
      "text/plain": [
       "OrderedDict([('xia', 1), ('wang,', 1), ('to', 1), ('the', 2), ('small', 1), ('promise', 1), ('poverty?', 1), ('on', 2), ('of', 1), ('not', 1), ('just', 1), ('is', 3), ('interview:', 1), ('http://ow.ly/ot2uj', 1), ('http://ow.ly/o8gt3', 1), ('http://bddy.me/1bzukb3', 1), ('how', 1), ('healthcare', 1), ('for', 2), ('finally', 1), ('end', 1), ('effective', 1), ('deployed', 1), ('data', 1), ('businesses:', 1), ('business.', 1), ('big', 2), ('being', 1), ('astrazeneca', 1), ('answer', 1), ('and', 1), ('@lavanyarathnam', 1), ('@cxotodayalerts', 1), ('#smb', 1), ('#kdn', 1), ('#bigdata', 3), ('#analytics', 1)])"
      ]
     },
     "execution_count": 34,
     "metadata": {},
     "output_type": "execute_result"
    }
   ],
   "source": [
    "b"
   ]
  },
  {
   "cell_type": "code",
   "execution_count": 11,
   "metadata": {
    "collapsed": false
   },
   "outputs": [
    {
     "ename": "SyntaxError",
     "evalue": "invalid syntax (<ipython-input-11-77ea817806d3>, line 1)",
     "output_type": "error",
     "traceback": [
      "\u001b[0;36m  File \u001b[0;32m\"<ipython-input-11-77ea817806d3>\"\u001b[0;36m, line \u001b[0;32m1\u001b[0m\n\u001b[0;31m    a = str(\"This is a test\"ofasuperwierdtweet)\u001b[0m\n\u001b[0m                                             ^\u001b[0m\n\u001b[0;31mSyntaxError\u001b[0m\u001b[0;31m:\u001b[0m invalid syntax\n"
     ]
    }
   ],
   "source": []
  },
  {
   "cell_type": "code",
   "execution_count": 10,
   "metadata": {
    "collapsed": false
   },
   "outputs": [
    {
     "data": {
      "text/plain": [
       "\"This is a test' 'tweetwierd #whatsup\\n\""
      ]
     },
     "execution_count": 10,
     "metadata": {},
     "output_type": "execute_result"
    }
   ],
   "source": [
    "a"
   ]
  },
  {
   "cell_type": "code",
   "execution_count": null,
   "metadata": {
    "collapsed": true
   },
   "outputs": [],
   "source": []
  }
 ],
 "metadata": {
  "kernelspec": {
   "display_name": "Python 2",
   "language": "python",
   "name": "python2"
  },
  "language_info": {
   "codemirror_mode": {
    "name": "ipython",
    "version": 2
   },
   "file_extension": ".py",
   "mimetype": "text/x-python",
   "name": "python",
   "nbconvert_exporter": "python",
   "pygments_lexer": "ipython2",
   "version": "2.7.10"
  }
 },
 "nbformat": 4,
 "nbformat_minor": 0
}
